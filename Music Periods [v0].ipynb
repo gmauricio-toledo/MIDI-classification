{
  "nbformat": 4,
  "nbformat_minor": 0,
  "metadata": {
    "colab": {
      "name": "Music_Periods.ipynb",
      "provenance": [],
      "toc_visible": true
    },
    "kernelspec": {
      "name": "python3",
      "display_name": "Python 3"
    }
  },
  "cells": [
    {
      "cell_type": "code",
      "metadata": {
        "id": "0sz0pFO_bWN1",
        "colab_type": "code",
        "colab": {
          "base_uri": "https://localhost:8080/",
          "height": 35
        },
        "outputId": "042beb5f-3b60-47ff-a941-5a72097ca477"
      },
      "source": [
        "import numpy as np\n",
        "import matplotlib.pyplot as plt\n",
        "import gc\n",
        "#from matplotlib.backends.backend_agg import FigureCanvasAgg as FigureCanvas\n",
        "\n",
        "def msj(k,width):\n",
        "    if (k+1)%width > 0:\n",
        "        print(k, end='Ϟ ')\n",
        "    else:\n",
        "        print(k,'Ϟ',end='\\r')\n",
        "\n",
        "fig = plt.figure(figsize=(4,4),dpi=250)\n",
        "ax = fig.add_subplot(111)\n",
        "\n",
        "for k in range(4000):\n",
        "    x = np.random.rand(100,)\n",
        "    y = np.random.rand(100,)\n",
        "    ax.scatter(x,y)\n",
        "    filename = 'prueba'+str(k)+'.png'\n",
        "    fig.savefig(filename)\n",
        "    ax.cla()\n",
        "    fig.clf()\n",
        "    msj(k,20) # Esto no importa, nada más es para imprimir dónde voy"
      ],
      "execution_count": 2,
      "outputs": [
        {
          "output_type": "stream",
          "text": [
            ""
          ],
          "name": "stdout"
        },
        {
          "output_type": "display_data",
          "data": {
            "text/plain": [
              "<Figure size 1000x1000 with 0 Axes>"
            ]
          },
          "metadata": {
            "tags": []
          }
        }
      ]
    },
    {
      "cell_type": "code",
      "metadata": {
        "id": "RV2bo1oUPvE4",
        "colab_type": "code",
        "colab": {
          "base_uri": "https://localhost:8080/",
          "height": 126
        },
        "outputId": "be333f5b-7c86-4489-878a-abefcfe626be"
      },
      "source": [
        "from google.colab import drive\n",
        "drive.mount('/content/drive')"
      ],
      "execution_count": 5,
      "outputs": [
        {
          "output_type": "stream",
          "text": [
            "Go to this URL in a browser: https://accounts.google.com/o/oauth2/auth?client_id=947318989803-6bn6qk8qdgf4n4g3pfee6491hc0brc4i.apps.googleusercontent.com&redirect_uri=urn%3aietf%3awg%3aoauth%3a2.0%3aoob&response_type=code&scope=email%20https%3a%2f%2fwww.googleapis.com%2fauth%2fdocs.test%20https%3a%2f%2fwww.googleapis.com%2fauth%2fdrive%20https%3a%2f%2fwww.googleapis.com%2fauth%2fdrive.photos.readonly%20https%3a%2f%2fwww.googleapis.com%2fauth%2fpeopleapi.readonly\n",
            "\n",
            "Enter your authorization code:\n",
            "··········\n",
            "Mounted at /content/drive\n"
          ],
          "name": "stdout"
        }
      ]
    },
    {
      "cell_type": "code",
      "metadata": {
        "id": "2oNYjn38Mj8U",
        "colab_type": "code",
        "colab": {
          "base_uri": "https://localhost:8080/",
          "height": 126
        },
        "outputId": "7da5a1a3-4e14-48ba-e157-a587f00b44fa"
      },
      "source": [
        "!pip install mido"
      ],
      "execution_count": 6,
      "outputs": [
        {
          "output_type": "stream",
          "text": [
            "Collecting mido\n",
            "\u001b[?25l  Downloading https://files.pythonhosted.org/packages/20/0a/81beb587b1ae832ea6a1901dc7c6faa380e8dd154e0a862f0a9f3d2afab9/mido-1.2.9-py2.py3-none-any.whl (52kB)\n",
            "\r\u001b[K     |██████▎                         | 10kB 16.1MB/s eta 0:00:01\r\u001b[K     |████████████▌                   | 20kB 1.7MB/s eta 0:00:01\r\u001b[K     |██████████████████▊             | 30kB 2.3MB/s eta 0:00:01\r\u001b[K     |█████████████████████████       | 40kB 2.5MB/s eta 0:00:01\r\u001b[K     |███████████████████████████████▏| 51kB 2.0MB/s eta 0:00:01\r\u001b[K     |████████████████████████████████| 61kB 1.9MB/s \n",
            "\u001b[?25hInstalling collected packages: mido\n",
            "Successfully installed mido-1.2.9\n"
          ],
          "name": "stdout"
        }
      ]
    },
    {
      "cell_type": "code",
      "metadata": {
        "id": "7Jh1uzNsRe0U",
        "colab_type": "code",
        "colab": {}
      },
      "source": [
        "import numpy as np\n",
        "import mido\n",
        "import os\n",
        "import pickle\n",
        "import matplotlib.pyplot as plt\n",
        "import matplotlib as mpl\n",
        "mpl.use('Agg')\n",
        "import pandas as pd"
      ],
      "execution_count": 7,
      "outputs": []
    },
    {
      "cell_type": "markdown",
      "metadata": {
        "id": "2VzhqorEeZnI",
        "colab_type": "text"
      },
      "source": [
        "# Clase"
      ]
    },
    {
      "cell_type": "code",
      "metadata": {
        "id": "yYuPa-U1WpF1",
        "colab_type": "code",
        "colab": {}
      },
      "source": [
        "from matplotlib.colors import ColorConverter\n",
        "# inherit the origin mido class\n",
        "class MidiFile(mido.MidiFile):\n",
        "\n",
        "    def __init__(self, filename):\n",
        "        mido.MidiFile.__init__(self, filename)\n",
        "        self.sr = 10\n",
        "        self.meta = {}\n",
        "        self.events = self.get_events()\n",
        "\n",
        "    def get_events(self):\n",
        "        mid = self\n",
        "        # There is > 16 channel in midi.tracks. However there is only 16 channel related to \"music\" events.\n",
        "        # We store music events of 16 channel in the list \"events\" with form [[ch1],[ch2]....[ch16]]\n",
        "        # Lyrics and meta data used a extra channel which is not include in \"events\"\n",
        "        events = [[] for x in range(16)]\n",
        "        # Iterate all event in the midi and extract to 16 channel form\n",
        "        for track in mid.tracks:\n",
        "            for msg in track:\n",
        "                try:\n",
        "                    channel = msg.channel\n",
        "                    events[channel].append(msg)\n",
        "                except AttributeError:\n",
        "                    try:\n",
        "                        if type(msg) != type(mido.UnknownMetaMessage):\n",
        "                            self.meta[msg.type] = msg.dict()\n",
        "                        else:\n",
        "                            pass\n",
        "                    except:\n",
        "                        print(\"error\",type(msg))\n",
        "        return events\n",
        "\n",
        "    def get_roll(self):\n",
        "        events = self.get_events()\n",
        "        # Identify events, then translate to piano roll\n",
        "        # choose a sample ratio(sr) to down-sample through time axis\n",
        "        sr = self.sr\n",
        "        # compute total length in tick unit\n",
        "        length = self.get_total_ticks()\n",
        "        # allocate memory to numpy array\n",
        "        roll = np.zeros((16, 128, length // sr), dtype=\"int8\")\n",
        "        # use a register array to save the state(no/off) for each key\n",
        "        note_register = [int(-1) for x in range(128)]\n",
        "        # use a register array to save the state(program_change) for each channel\n",
        "        timbre_register = [1 for x in range(16)]\n",
        "\n",
        "        for idx, channel in enumerate(events):\n",
        "            time_counter = 0\n",
        "            volume = 100\n",
        "            # Volume would change by control change event (cc) cc7 & cc11\n",
        "            # Volume 0-100 is mapped to 0-127\n",
        "            # print(\"channel\", idx, \"start\")\n",
        "            for msg in channel:\n",
        "                if msg.type == \"control_change\":\n",
        "                    if msg.control == 7:\n",
        "                        volume = msg.value\n",
        "                        # directly assign volume\n",
        "                    if msg.control == 11:\n",
        "                        volume = volume * msg.value // 127\n",
        "                        # change volume by percentage\n",
        "                    # print(\"cc\", msg.control, msg.value, \"duration\", msg.time)\n",
        "                if msg.type == \"program_change\":\n",
        "                    timbre_register[idx] = msg.program\n",
        "                    #print(\"channel\", idx, \"pc\", msg.program, \"time\", time_counter, \"duration\", msg.time)\n",
        "\n",
        "                if msg.type == \"note_on\":\n",
        "                    #print(\"on \", msg.note, \"time\", time_counter, \"duration\", msg.time, \"velocity\", msg.velocity)\n",
        "                    note_on_start_time = time_counter // sr\n",
        "                    note_on_end_time = (time_counter + msg.time) // sr\n",
        "                    intensity = volume * msg.velocity // 127\n",
        "\t\t\t\t\t# When a note_on event *ends* the note start to be play \n",
        "\t\t\t\t\t# Record end time of note_on event if there is no value in register\n",
        "\t\t\t\t\t# When note_off event happens, we fill in the color\n",
        "                    if note_register[msg.note] == -1:\n",
        "                        note_register[msg.note] = (note_on_end_time,intensity)\n",
        "                    else:\n",
        "\t\t\t\t\t# When note_on event happens again, we also fill in the color\n",
        "                        old_end_time = note_register[msg.note][0]\n",
        "                        old_intensity = note_register[msg.note][1]\n",
        "                        roll[idx, msg.note, old_end_time: note_on_end_time] = old_intensity\n",
        "                        note_register[msg.note] = (note_on_end_time,intensity)\n",
        "\n",
        "                if msg.type == \"note_off\":\n",
        "                    #print(\"off\", msg.note, \"time\", time_counter, \"duration\", msg.time, \"velocity\", msg.velocity)\n",
        "                    note_off_start_time = time_counter // sr\n",
        "                    note_off_end_time = (time_counter + msg.time) // sr\n",
        "                    note_on_end_time = note_register[msg.note][0]\n",
        "                    intensity = note_register[msg.note][1]\n",
        "\t\t\t\t\t# fill in color\n",
        "                    roll[idx, msg.note, note_on_end_time:note_off_end_time] = intensity\n",
        "                    note_register[msg.note] = -1  # reinitialize register\n",
        "                time_counter += msg.time\n",
        "\n",
        "            # if there is a note not closed at the end of a channel, close it\n",
        "            for key, data in enumerate(note_register):\n",
        "                if data != -1:\n",
        "                    note_on_end_time = data[0]\n",
        "                    intensity = data[1]\n",
        "                    # print(key, note_on_end_time)\n",
        "                    note_off_start_time = time_counter // sr\n",
        "                    roll[idx, key, note_on_end_time:] = intensity\n",
        "                note_register[idx] = -1\n",
        "        return roll\n",
        "\n",
        "    def get_roll_image(self):\n",
        "        roll = self.get_roll()\n",
        "        plt.ioff()\n",
        "        K = 16\n",
        "        transparent = ColorConverter.to_rgba('black')\n",
        "        colors = [mpl.colors.to_rgba(mpl.colors.hsv_to_rgb((i / K, 1, 1)), alpha=1) for i in range(K)]\n",
        "        cmaps = [mpl.colors.LinearSegmentedColormap.from_list('my_cmap', [transparent, colors[i]], 128) for i in\n",
        "                 range(K)]\n",
        "        for i in range(K):\n",
        "            cmaps[i]._init()  # create the _lut array, with rgba values\n",
        "            # create your alpha array and fill the colormap with them.\n",
        "            # here it is progressive, but you can create whathever you want\n",
        "            alphas = np.linspace(0, 1, cmaps[i].N + 3)\n",
        "            cmaps[i]._lut[:, -1] = alphas\n",
        "\n",
        "        fig = plt.figure(figsize=(4, 3))\n",
        "        a1 = fig.add_subplot(111)\n",
        "        a1.axis(\"equal\")\n",
        "        a1.set_facecolor(\"black\")\n",
        "        array = []\n",
        "        for i in range(K):\n",
        "            try:\n",
        "                img = a1.imshow(roll[i], interpolation='nearest', cmap=cmaps[i], aspect='auto')\n",
        "                array.append(img.get_array())\n",
        "            except IndexError:\n",
        "                pass\n",
        "        return array\n",
        "\n",
        "    def draw_roll(self,filename:str,just_image=True,show=True):\n",
        "        roll = self.get_roll()\n",
        "        # build and set fig obj\n",
        "        plt.ioff()\n",
        "        fig = plt.figure(figsize=(7, 5),frameon=False)\n",
        "        a1 = fig.add_subplot(111)\n",
        "        a1.axis(\"equal\")\n",
        "        a1.set_facecolor(\"black\")\n",
        "\n",
        "        # change unit of time axis from tick to second\n",
        "        tick = self.get_total_ticks()\n",
        "        second = mido.tick2second(tick, self.ticks_per_beat, self.get_tempo())\n",
        "        #print(second)\n",
        "        if second > 10:\n",
        "            x_label_period_sec = second // 10\n",
        "        else:\n",
        "            x_label_period_sec = second / 10  # ms\n",
        "        #print(x_label_period_sec)\n",
        "        x_label_interval = mido.second2tick(x_label_period_sec, self.ticks_per_beat, self.get_tempo()) / self.sr\n",
        "        #print(x_label_interval)\n",
        "        if just_image==False:                \n",
        "            plt.xticks([int(x * x_label_interval) for x in range(20)], [round(x * x_label_period_sec, 2) for x in range(20)])\n",
        "            # change scale and label of y axis\n",
        "            plt.yticks([y*16 for y in range(8)], [y*16 for y in range(8)])\n",
        "        else:\n",
        "            plt.xticks([])\n",
        "            plt.yticks([])\n",
        "        # build colors\n",
        "        channel_nb = 16\n",
        "        transparent = ColorConverter.to_rgba('black')\n",
        "        colors = [mpl.colors.to_rgba(mpl.colors.hsv_to_rgb((i / channel_nb, 1, 1)), alpha=1) for i in range(channel_nb)]\n",
        "        cmaps = [mpl.colors.LinearSegmentedColormap.from_list('my_cmap', [transparent, colors[i]], 128) for i in\n",
        "                 range(channel_nb)]\n",
        "        # build color maps\n",
        "        for i in range(channel_nb):\n",
        "            cmaps[i]._init()\n",
        "            # create your alpha array and fill the colormap with them.\n",
        "            alphas = np.linspace(0, 1, cmaps[i].N + 3)\n",
        "            # create the _lut array, with rgba values\n",
        "            cmaps[i]._lut[:, -1] = alphas\n",
        "\n",
        "        # draw piano roll and stack image on a1\n",
        "        for i in range(channel_nb):\n",
        "            try:\n",
        "                a1.imshow(roll[i], origin=\"lower\", interpolation='nearest', cmap=cmaps[i], aspect='auto')\n",
        "                # a1.imshow(roll[i], origin=\"lower\", interpolation='nearest', cmap='inferno', aspect='auto')\n",
        "            except IndexError:\n",
        "                pass\n",
        "        # draw color bar\n",
        "        # colors = [mpl.colors.hsv_to_rgb((i / channel_nb, 1, 1)) for i in range(channel_nb)]\n",
        "        # cmap = mpl.colors.LinearSegmentedColormap.from_list('my_cmap', colors, 16)\n",
        "        # a2 = fig.add_axes([0.05, 0.80, 0.9, 0.15])\n",
        "        # cbar = mpl.colorbar.ColorbarBase(a2, cmap=cmap,\n",
        "        #                                 orientation='horizontal',\n",
        "        #                                 ticks=list(range(16)))\n",
        "        # show piano roll\n",
        "        #plt.draw()\n",
        "        #plt.ion()\n",
        "        # path = '/content/drive/My Drive/Diplomado Python/Notebooks & Resources/Proyecto Final/Images/'\n",
        "        # filename = path+'roll_1.png'\n",
        "        plt.savefig(filename,dpi=200)\n",
        "        if show:\n",
        "            plt.show(block=True)\n",
        "\n",
        "    def get_tempo(self):\n",
        "        try:\n",
        "            return self.meta[\"set_tempo\"][\"tempo\"]\n",
        "        except:\n",
        "            return 500000\n",
        "\n",
        "    def get_total_ticks(self):\n",
        "        max_ticks = 0\n",
        "        for channel in range(16):\n",
        "            ticks = sum(msg.time for msg in self.events[channel])\n",
        "            if ticks > max_ticks:\n",
        "                max_ticks = ticks\n",
        "        return max_ticks\n",
        "\n",
        "if __name__ == \"__main__\":\n",
        "    filename = '/content/drive/My Drive/Diplomado Python/Notebooks & Resources/Proyecto Final/Piano solo midi dataset/Bach/bach_847.mid'\n",
        "    mid = MidiFile(filename)\n",
        "    roll = mid.get_roll()\n",
        "    path = '/content/drive/My Drive/Diplomado Python/Notebooks & Resources/Proyecto Final/Images/'\n",
        "    filename = path+'roll_1.png'    \n",
        "    mid.draw_roll(filename)"
      ],
      "execution_count": null,
      "outputs": []
    },
    {
      "cell_type": "markdown",
      "metadata": {
        "id": "KYy9tOhUkj5k",
        "colab_type": "text"
      },
      "source": [
        "# Mi clase personalizada\n",
        "\n",
        "Todas las imagenes de un go"
      ]
    },
    {
      "cell_type": "markdown",
      "metadata": {
        "id": "01Vt6gI9e37Z",
        "colab_type": "text"
      },
      "source": [
        "MI CLASE"
      ]
    },
    {
      "cell_type": "code",
      "metadata": {
        "id": "I6sbgsmCe3d7",
        "colab_type": "code",
        "colab": {}
      },
      "source": [
        "from matplotlib.colors import ColorConverter\n",
        "\n",
        "class MidiFile(mido.MidiFile):\n",
        "\n",
        "    def __init__(self, filename):\n",
        "        mido.MidiFile.__init__(self, filename)\n",
        "        self.sr = 10\n",
        "        self.meta = {}\n",
        "        self.events = self.get_events()\n",
        "\n",
        "    def get_events(self):\n",
        "        mid = self\n",
        "        events = [[] for x in range(16)]\n",
        "        # Iterate all event in the midi and extract to 16 channel form\n",
        "        for track in mid.tracks:\n",
        "            for msg in track:\n",
        "                try:\n",
        "                    channel = msg.channel\n",
        "                    events[channel].append(msg)\n",
        "                except AttributeError:\n",
        "                    try:\n",
        "                        if type(msg) != type(mido.UnknownMetaMessage):\n",
        "                            self.meta[msg.type] = msg.dict()\n",
        "                        else:\n",
        "                            pass\n",
        "                    except:\n",
        "                        print(\"error\",type(msg))\n",
        "        return events\n",
        "\n",
        "    def get_roll(self):\n",
        "        events = self.get_events()\n",
        "        # Identify events, then translate to piano roll\n",
        "        # choose a sample ratio(sr) to down-sample through time axis\n",
        "        sr = self.sr\n",
        "        # compute total length in tick unit\n",
        "        length = self.get_total_ticks()\n",
        "        # allocate memory to numpy array\n",
        "        roll = np.zeros((16, 128, length // sr), dtype=\"int8\")\n",
        "        # use a register array to save the state(no/off) for each key\n",
        "        note_register = [int(-1) for x in range(128)]\n",
        "        # use a register array to save the state(program_change) for each channel\n",
        "        timbre_register = [1 for x in range(16)]\n",
        "\n",
        "        for idx, channel in enumerate(events):\n",
        "            time_counter = 0\n",
        "            volume = 100\n",
        "            # Volume would change by control change event (cc) cc7 & cc11\n",
        "            # Volume 0-100 is mapped to 0-127\n",
        "            for msg in channel:\n",
        "                if msg.type == \"control_change\":\n",
        "                    if msg.control == 7:\n",
        "                        volume = msg.value\n",
        "                        # directly assign volume\n",
        "                    if msg.control == 11:\n",
        "                        volume = volume * msg.value // 127\n",
        "                        # change volume by percentage                   \n",
        "                if msg.type == \"program_change\":\n",
        "                    timbre_register[idx] = msg.program\n",
        "\n",
        "                if msg.type == \"note_on\":\n",
        "                    note_on_start_time = time_counter // sr\n",
        "                    note_on_end_time = (time_counter + msg.time) // sr\n",
        "                    intensity = volume * msg.velocity // 127\n",
        "\t\t\t\t\t# When a note_on event *ends* the note start to be play \n",
        "\t\t\t\t\t# Record end time of note_on event if there is no value in register\n",
        "\t\t\t\t\t# When note_off event happens, we fill in the color\n",
        "                    if note_register[msg.note] == -1:\n",
        "                        note_register[msg.note] = (note_on_end_time,intensity)\n",
        "                    else:\n",
        "\t\t\t\t\t# When note_on event happens again, we also fill in the color\n",
        "                        old_end_time = note_register[msg.note][0]\n",
        "                        old_intensity = note_register[msg.note][1]\n",
        "                        roll[idx, msg.note, old_end_time: note_on_end_time] = old_intensity\n",
        "                        note_register[msg.note] = (note_on_end_time,intensity)\n",
        "\n",
        "                if msg.type == \"note_off\":\n",
        "                    note_off_start_time = time_counter // sr\n",
        "                    note_off_end_time = (time_counter + msg.time) // sr\n",
        "                    note_on_end_time = note_register[msg.note][0]\n",
        "                    intensity = note_register[msg.note][1]\n",
        "\t\t\t\t\t# fill in color\n",
        "                    roll[idx, msg.note, note_on_end_time:note_off_end_time] = intensity\n",
        "                    note_register[msg.note] = -1  # reinitialize register\n",
        "                time_counter += msg.time\n",
        "\n",
        "            # if there is a note not closed at the end of a channel, close it\n",
        "            for key, data in enumerate(note_register):\n",
        "                if data != -1:\n",
        "                    note_on_end_time = data[0]\n",
        "                    intensity = data[1]\n",
        "                    # print(key, note_on_end_time)\n",
        "                    note_off_start_time = time_counter // sr\n",
        "                    roll[idx, key, note_on_end_time:] = intensity\n",
        "                note_register[idx] = -1\n",
        "        return roll\n",
        "\n",
        "    def get_roll_image(self):\n",
        "        roll = self.get_roll()\n",
        "        plt.ioff()\n",
        "        K = 16\n",
        "        transparent = ColorConverter.to_rgba('black')\n",
        "        colors = [mpl.colors.to_rgba(mpl.colors.hsv_to_rgb((i / K, 1, 1)), alpha=1) for i in range(K)]\n",
        "        cmaps = [mpl.colors.LinearSegmentedColormap.from_list('my_cmap', [transparent, colors[i]], 128) for i in\n",
        "                 range(K)]\n",
        "        for i in range(K):\n",
        "            cmaps[i]._init()  # create the _lut array, with rgba values\n",
        "            # create your alpha array and fill the colormap with them.\n",
        "            # here it is progressive, but you can create whathever you want\n",
        "            alphas = np.linspace(0, 1, cmaps[i].N + 3)\n",
        "            cmaps[i]._lut[:, -1] = alphas\n",
        "\n",
        "        fig = plt.figure(figsize=(4, 3))\n",
        "        a1 = fig.add_subplot(111)\n",
        "        a1.axis(\"equal\")\n",
        "        a1.set_facecolor(\"black\")\n",
        "        array = []\n",
        "        for i in range(K):\n",
        "            try:\n",
        "                img = a1.imshow(roll[i], interpolation='nearest', cmap=cmaps[i], aspect='auto')\n",
        "                array.append(img.get_array())\n",
        "            except IndexError:\n",
        "                pass\n",
        "        return array\n",
        "\n",
        "    def draw_roll(self,fig,a1,filename:str,just_image=True,show=True):\n",
        "        roll = self.get_roll()\n",
        "        # build and set fig obj\n",
        "        #plt.ioff()\n",
        "        #fig = plt.figure(figsize=(7, 5),frameon=False)\n",
        "        #a1 = fig.add_subplot(111)\n",
        "        a1.axis(\"equal\")\n",
        "        a1.set_facecolor(\"black\")\n",
        "\n",
        "        # change unit of time axis from tick to second\n",
        "        tick = self.get_total_ticks()\n",
        "        second = mido.tick2second(tick, self.ticks_per_beat, self.get_tempo())\n",
        "        if second > 10:\n",
        "            x_label_period_sec = second // 10\n",
        "        else:\n",
        "            x_label_period_sec = second / 10  # ms\n",
        "        x_label_interval = mido.second2tick(x_label_period_sec, self.ticks_per_beat, self.get_tempo()) / self.sr\n",
        "        if just_image==False:                \n",
        "            fig.xticks([int(x * x_label_interval) for x in range(20)], [round(x * x_label_period_sec, 2) for x in range(20)])\n",
        "            # change scale and label of y axis\n",
        "            #plt...\n",
        "            fig.yticks([y*16 for y in range(8)], [y*16 for y in range(8)])\n",
        "        else:\n",
        "            fig.xticks([])\n",
        "            fig.yticks([])\n",
        "        # build colors\n",
        "        channel_nb = 16\n",
        "        transparent = ColorConverter.to_rgba('white')\n",
        "        colors = [mpl.colors.to_rgba(mpl.colors.hsv_to_rgb((i / channel_nb, 1, 1)), alpha=1) for i in range(channel_nb)]\n",
        "        cmaps = [mpl.colors.LinearSegmentedColormap.from_list('my_cmap', [transparent, colors[i]], 128) for i in\n",
        "                 range(channel_nb)]\n",
        "        # build color maps\n",
        "        for i in range(channel_nb):\n",
        "            cmaps[i]._init()\n",
        "            # create your alpha array and fill the colormap with them.\n",
        "            alphas = np.linspace(0, 1, cmaps[i].N + 3)\n",
        "            # create the _lut array, with rgba values\n",
        "            cmaps[i]._lut[:, -1] = alphas\n",
        "\n",
        "        # draw piano roll and stack image on a1\n",
        "        for i in range(channel_nb):\n",
        "            try:\n",
        "                a1.imshow(roll[i], origin=\"lower\", interpolation='nearest', cmap=cmaps[i], aspect='auto')\n",
        "                # a1.imshow(roll[i], origin=\"lower\", interpolation='nearest', cmap='inferno', aspect='auto')\n",
        "            except IndexError:\n",
        "                pass\n",
        "        fig.savefig(filename,dpi=200)\n",
        "        a1.cla()\n",
        "        fig.clf()\n",
        "\n",
        "    def get_tempo(self):\n",
        "        try:\n",
        "            return self.meta[\"set_tempo\"][\"tempo\"]\n",
        "        except:\n",
        "            return 500000\n",
        "\n",
        "    def get_total_ticks(self):\n",
        "        max_ticks = 0\n",
        "        for channel in range(16):\n",
        "            ticks = sum(msg.time for msg in self.events[channel])\n",
        "            if ticks > max_ticks:\n",
        "                max_ticks = ticks\n",
        "        return max_ticks\n",
        "\n",
        "# if __name__ == \"__main__\":\n",
        "#     filename = '/content/drive/My Drive/Diplomado Python/Notebooks & Resources/Proyecto Final/Piano solo midi dataset/Bach/bach_847.mid'\n",
        "#     mid = MidiFile(filename)\n",
        "#     roll = mid.get_roll()\n",
        "#     path = '/content/drive/My Drive/Diplomado Python/Notebooks & Resources/Proyecto Final/Images/'\n",
        "#     filename = path+'roll_1.png'    \n",
        "#     mid.draw_roll(filename)"
      ],
      "execution_count": 11,
      "outputs": []
    },
    {
      "cell_type": "code",
      "metadata": {
        "id": "f9CmzyyqjvrT",
        "colab_type": "code",
        "colab": {}
      },
      "source": [
        "filename = '/content/drive/My Drive/Diplomado Python/Notebooks & Resources/Proyecto Final/note_values.p'\n",
        "with open(filename, 'rb') as fp:\n",
        "    note_values = pickle.load(fp)\n",
        "\n",
        "filename = '/content/drive/My Drive/Diplomado Python/Notebooks & Resources/Proyecto Final/cc.p'\n",
        "with open(filename,'rb') as fp:\n",
        "    cc = pickle.load(fp) \n",
        "\n",
        "dataset1_df = pd.read_pickle('/content/drive/My Drive/Diplomado Python/Notebooks & Resources/Proyecto Final/dataset1.p')\n",
        "dataset2_df = pd.read_pickle('/content/drive/My Drive/Diplomado Python/Notebooks & Resources/Proyecto Final/dataset2.p')\n",
        "dataset2_full_df = pd.read_pickle('/content/drive/My Drive/Diplomado Python/Notebooks & Resources/Proyecto Final/dataset2-big.p')\n",
        "composers_df = pd.read_pickle('/content/drive/My Drive/Diplomado Python/Notebooks & Resources/Proyecto Final/composers.p')"
      ],
      "execution_count": 9,
      "outputs": []
    },
    {
      "cell_type": "code",
      "metadata": {
        "id": "1QzKegW2laob",
        "colab_type": "code",
        "colab": {}
      },
      "source": [
        "rootdir = '/content/drive/My Drive/Diplomado Python/Notebooks & Resources/Proyecto Final/Piano solo midi dataset'\n",
        "#rootdir = '/content/drive/My Drive/Diplomado Python/Notebooks & Resources/Proyecto Final/Otro dataset de pianos midis/maestro-v2.0.0'\n",
        "img_path = '/content/drive/My Drive/Diplomado Python/Notebooks & Resources/Proyecto Final/Images/'\n",
        "k = 0\n",
        "for subdir, dirs, files in os.walk(rootdir):\n",
        "    for file in files:\n",
        "        filename = os.path.join(subdir, file)\n",
        "        try:\n",
        "            mid_bar = MidiFile(filename)\n",
        "            img_filename = img_path + file[:-3] + 'png'\n",
        "            mid_bar.draw_roll(img_filename,show=False)\n",
        "            # midi_info_pd.loc[idx,'Image'] = True\n",
        "        except:\n",
        "            print(\"El archivo\",file,\"no se puede leer\")\n",
        "            # midi_info_pd.loc[idx,'Broken'] = True\n",
        "        # midi_info_pd.to_pickle('/content/drive/My Drive/Diplomado Python/Notebooks & Resources/Proyecto Final/dataset1.p')\n",
        "        print(k)\n",
        "        k += 1"
      ],
      "execution_count": null,
      "outputs": []
    },
    {
      "cell_type": "code",
      "metadata": {
        "id": "ey3iZJPpR1D_",
        "colab_type": "code",
        "colab": {}
      },
      "source": [
        "def msj(k,width):\n",
        "    if (k+1)%width > 0:\n",
        "        print(k, end='Ϟ ')\n",
        "    else:\n",
        "        print(k,'Ϟ',end='\\r')"
      ],
      "execution_count": null,
      "outputs": []
    },
    {
      "cell_type": "code",
      "metadata": {
        "id": "aIer7NN0URsN",
        "colab_type": "code",
        "colab": {}
      },
      "source": [
        "sounds = MidiFile('/content/drive/My Drive/Diplomado Python/Notebooks & Resources/Proyecto Final/Otro dataset de pianos midis/maestro-v2.0.0/2008/MIDI-Unprocessed_02_R1_2008_01-05_ORIG_MID--AUDIO_02_R1_2008_wav--2.midi')\n",
        "sounds.draw_roll('/content/drive/My Drive/Diplomado Python/Notebooks & Resources/Proyecto Final/Images/Previos/test.png')\n",
        "roll = sounds.get_roll()"
      ],
      "execution_count": null,
      "outputs": []
    },
    {
      "cell_type": "markdown",
      "metadata": {
        "id": "jaReUrCrFsbH",
        "colab_type": "text"
      },
      "source": [
        "El roll es un arreglo de \n",
        "\n",
        "16 (channels) x 128 (notas) x 177712 (duración)"
      ]
    },
    {
      "cell_type": "code",
      "metadata": {
        "id": "quVgFzM5FVjz",
        "colab_type": "code",
        "colab": {
          "base_uri": "https://localhost:8080/",
          "height": 35
        },
        "outputId": "be5b86f5-b2a9-42c0-a61c-4b9fd448d6f6"
      },
      "source": [
        "roll.shape"
      ],
      "execution_count": null,
      "outputs": [
        {
          "output_type": "execute_result",
          "data": {
            "text/plain": [
              "(16, 128, 17712)"
            ]
          },
          "metadata": {
            "tags": []
          },
          "execution_count": 6
        }
      ]
    },
    {
      "cell_type": "markdown",
      "metadata": {
        "id": "jMTQ_7CCheM1",
        "colab_type": "text"
      },
      "source": [
        "# Compositores y Periodos"
      ]
    },
    {
      "cell_type": "code",
      "metadata": {
        "id": "qgJhTokYVQH8",
        "colab_type": "code",
        "colab": {}
      },
      "source": [
        "dataset2_df.to_pickle('/content/drive/My Drive/Diplomado Python/Notebooks & Resources/Proyecto Final/dataset2.p')"
      ],
      "execution_count": null,
      "outputs": []
    },
    {
      "cell_type": "code",
      "metadata": {
        "id": "8sH_CCGvltft",
        "colab_type": "code",
        "colab": {}
      },
      "source": [
        "composers_dict = {composers_df.loc[k,'last_name']:composers_df.loc[k,'period'] \n",
        "                  for k in composers_df.index.to_list()}\n",
        "composers_dict"
      ],
      "execution_count": null,
      "outputs": []
    },
    {
      "cell_type": "code",
      "metadata": {
        "id": "FT3pe8Ui97XJ",
        "colab_type": "code",
        "colab": {
          "base_uri": "https://localhost:8080/",
          "height": 35
        },
        "outputId": "ab9f437f-1f33-4127-af91-9ce79c63e0b2"
      },
      "source": [
        "arr1 = dataset1_df['Period'].values\n",
        "arr2 = dataset2_df['Period'].values\n",
        "arr = np.concatenate((arr1,arr2))\n",
        "\n",
        "periodos = np.unique(arr)\n",
        "data = {p:0 for p in periodos if p not in ['Modern','Nationalism'] }\n",
        "\n",
        "for p in data.keys():\n",
        "    data[p] += dataset1_df[dataset1_df['Period']==p].shape[0]\n",
        "    data[p] += dataset2_df[dataset2_df['Period']==p].shape[0]\n",
        "print(data)\n",
        "plt.figure(dpi=150)\n",
        "#plt.suptitle('Histogram')\n",
        "plt.bar(list(data.keys()),list(data.values()), color='mediumblue',edgecolor='slategray')\n",
        "plt.xticks(fontsize=16)\n",
        "plt.yticks(fontsize=14)\n",
        "plt.savefig('histogram_periods.png',dpi=150)\n",
        "plt.show()"
      ],
      "execution_count": null,
      "outputs": [
        {
          "output_type": "stream",
          "text": [
            "{'Baroque': 188, 'Classicism': 321, 'Romanticism': 1040}\n"
          ],
          "name": "stdout"
        }
      ]
    },
    {
      "cell_type": "code",
      "metadata": {
        "id": "9whGECPpgzed",
        "colab_type": "code",
        "colab": {
          "base_uri": "https://localhost:8080/",
          "height": 35
        },
        "outputId": "1d66e1f0-f437-4701-ff4d-547d9b84b17a"
      },
      "source": [
        "np.sum(list(data.values()))"
      ],
      "execution_count": null,
      "outputs": [
        {
          "output_type": "execute_result",
          "data": {
            "text/plain": [
              "1549"
            ]
          },
          "metadata": {
            "tags": []
          },
          "execution_count": 132
        }
      ]
    },
    {
      "cell_type": "markdown",
      "metadata": {
        "id": "GgTfmpBkV88d",
        "colab_type": "text"
      },
      "source": [
        "## Duraciones"
      ]
    },
    {
      "cell_type": "code",
      "metadata": {
        "id": "dCeS72L7U7kr",
        "colab_type": "code",
        "colab": {
          "base_uri": "https://localhost:8080/",
          "height": 35
        },
        "outputId": "5151a3a7-6ad9-42e9-bd67-02ecb36693a9"
      },
      "source": [
        "mid.length"
      ],
      "execution_count": null,
      "outputs": [
        {
          "output_type": "execute_result",
          "data": {
            "text/plain": [
              "296.66952770833325"
            ]
          },
          "metadata": {
            "tags": []
          },
          "execution_count": 15
        }
      ]
    },
    {
      "cell_type": "code",
      "metadata": {
        "id": "MGYZsLKTV5ZH",
        "colab_type": "code",
        "colab": {}
      },
      "source": [
        "# path = '/content/drive/My Drive/Diplomado Python/Notebooks & Resources/Proyecto Final/Piano solo midi dataset/bach/'\n",
        "path = '/content/drive/My Drive/Diplomado Python/Notebooks & Resources/Proyecto Final/Piano solo midi dataset/chopin/'\n",
        "directory = os.fsencode(path)\n",
        "\n",
        "for file in os.listdir(directory):\n",
        "    filename = os.fsdecode(file)\n",
        "    midi_filename = path+filename\n",
        "    midi_file = MidiFile(midi_filename, clip=True)\n",
        "    print(filename,\"--->\",midi_file.length,\"segundos --->\",midi_file.length/60,\"minutos.\")"
      ],
      "execution_count": null,
      "outputs": []
    },
    {
      "cell_type": "markdown",
      "metadata": {
        "id": "BXzoxKBHe1q4",
        "colab_type": "text"
      },
      "source": [
        "# Visualization"
      ]
    },
    {
      "cell_type": "code",
      "metadata": {
        "id": "Z973eAQLpTe6",
        "colab_type": "code",
        "colab": {}
      },
      "source": [
        "mid_bar = MidiFile('/content/drive/My Drive/Diplomado Python/Notebooks & Resources/Proyecto Final/Piano solo midi dataset/bach/bach_847.mid')\n",
        "mid_rom = MidiFile('/content/drive/My Drive/Diplomado Python/Notebooks & Resources/Proyecto Final/Piano solo midi dataset/chopin/chpn-p13.mid')\n",
        "mid_cla = MidiFile('/content/drive/My Drive/Diplomado Python/Notebooks & Resources/Proyecto Final/Piano solo midi dataset/mozart/mz_331_2.mid')"
      ],
      "execution_count": null,
      "outputs": []
    },
    {
      "cell_type": "code",
      "metadata": {
        "id": "65D8AIb1pnMZ",
        "colab_type": "code",
        "colab": {}
      },
      "source": [
        "mid_bar.draw_roll('/content/drive/My Drive/Diplomado Python/Notebooks & Resources/Proyecto Final/Images/Previos/roll_bar_3.png')\n",
        "# mid_cla.draw_roll('/content/drive/My Drive/Diplomado Python/Notebooks & Resources/Proyecto Final/Images/Previos/roll_cla.png')\n",
        "# mid_rom.draw_roll('/content/drive/My Drive/Diplomado Python/Notebooks & Resources/Proyecto Final/Images/Previos/roll_rom.png')"
      ],
      "execution_count": null,
      "outputs": []
    },
    {
      "cell_type": "code",
      "metadata": {
        "id": "UMEG4YccenM1",
        "colab_type": "code",
        "colab": {
          "base_uri": "https://localhost:8080/",
          "height": 35
        },
        "outputId": "4808f1e7-3e54-43c0-e5ea-138a6d58750b"
      },
      "source": [
        "roll_cla = mid_cla.get_roll()\n",
        "print(roll_cla.shape)"
      ],
      "execution_count": null,
      "outputs": [
        {
          "output_type": "stream",
          "text": [
            "(16, 128, 107280)\n"
          ],
          "name": "stdout"
        }
      ]
    },
    {
      "cell_type": "markdown",
      "metadata": {
        "id": "exHb3dQBRxDf",
        "colab_type": "text"
      },
      "source": [
        "Por primera vez"
      ]
    },
    {
      "cell_type": "code",
      "metadata": {
        "id": "6CZ8YpGoy6Wj",
        "colab_type": "code",
        "colab": {}
      },
      "source": [
        "rootdir = '/content/drive/My Drive/Diplomado Python/Notebooks & Resources/Proyecto Final/Piano solo midi dataset'\n",
        "#rootdir = '/content/drive/My Drive/Diplomado Python/Notebooks & Resources/Proyecto Final/Otro dataset de pianos midis/maestro-v2.0.0'\n",
        "img_path = '/content/drive/My Drive/Diplomado Python/Notebooks & Resources/Proyecto Final/Images/'\n",
        "k = 0\n",
        "for subdir, dirs, files in os.walk(rootdir):\n",
        "    for file in files:\n",
        "        filename = os.path.join(subdir, file)\n",
        "        try:\n",
        "            mid_bar = MidiFile(filename)\n",
        "            img_filename = img_path + file[:-3] + 'png'\n",
        "            mid_bar.draw_roll(img_filename,show=False)\n",
        "            # midi_info_pd.loc[idx,'Image'] = True\n",
        "        except:\n",
        "            print(\"El archivo\",file,\"no se puede leer\")\n",
        "            # midi_info_pd.loc[idx,'Broken'] = True\n",
        "        # midi_info_pd.to_pickle('/content/drive/My Drive/Diplomado Python/Notebooks & Resources/Proyecto Final/dataset1.p')\n",
        "        print(k)\n",
        "        k += 1"
      ],
      "execution_count": null,
      "outputs": []
    },
    {
      "cell_type": "markdown",
      "metadata": {
        "id": "sxJ69UiSPQ79",
        "colab_type": "text"
      },
      "source": [
        "Continuar leyendo midis y convirtiéndolos en imagenes"
      ]
    },
    {
      "cell_type": "code",
      "metadata": {
        "colab_type": "code",
        "id": "c48699jtFmN7",
        "colab": {}
      },
      "source": [
        "rootdir = '/content/drive/My Drive/Diplomado Python/Notebooks & Resources/Proyecto Final/Piano solo midi dataset'\n",
        "img_path = '/content/drive/My Drive/Diplomado Python/Notebooks & Resources/Proyecto Final/Images/'\n",
        "k = 0\n",
        "for subdir, dirs, files in os.walk(rootdir):\n",
        "    for file in files:\n",
        "        filename = os.path.join(subdir, file)\n",
        "        idx = midi_info_pd[midi_info_pd['root_Filename'] == file[:-4]].index.tolist()\n",
        "        idx = idx[0]\n",
        "        if midi_info_pd.loc[idx,'Image'] == False:\n",
        "            try:\n",
        "                mid_bar = MidiFile(filename)\n",
        "                img_filename = img_path + file[:-3] + 'png'\n",
        "                mid_bar.draw_roll(img_filename,show=False)\n",
        "                midi_info_pd.loc[idx,'Image'] = True\n",
        "            except:\n",
        "                print(\"El archivo\",file,\"no se puede leer\")\n",
        "                midi_info_pd.loc[idx,'Broken'] = True\n",
        "            midi_info_pd.to_pickle('/content/drive/My Drive/Diplomado Python/Notebooks & Resources/Proyecto Final/dataset1.p')\n",
        "            msj(k)\n",
        "        k += 1"
      ],
      "execution_count": null,
      "outputs": []
    },
    {
      "cell_type": "code",
      "metadata": {
        "id": "VKc_SVk9dyZ2",
        "colab_type": "code",
        "colab": {
          "base_uri": "https://localhost:8080/",
          "height": 35
        },
        "outputId": "ce8a167d-9bf3-4161-e1af-ceda1c5a05a4"
      },
      "source": [
        "df = midi_info_pd.drop_duplicates(subset='root_Filename', keep=\"first\")\n",
        "df.shape"
      ],
      "execution_count": null,
      "outputs": [
        {
          "output_type": "execute_result",
          "data": {
            "text/plain": [
              "(314, 7)"
            ]
          },
          "metadata": {
            "tags": []
          },
          "execution_count": 20
        }
      ]
    },
    {
      "cell_type": "markdown",
      "metadata": {
        "id": "S6V2f5Mtvtq0",
        "colab_type": "text"
      },
      "source": [
        "Preparar listas para crear dataframe de nuevos archivos"
      ]
    },
    {
      "cell_type": "code",
      "metadata": {
        "id": "o-jIhVyZhohP",
        "colab_type": "code",
        "colab": {
          "base_uri": "https://localhost:8080/",
          "height": 71
        },
        "outputId": "667e1fce-a38f-48c6-bfff-a588cf1e79ff"
      },
      "source": [
        "rootdir = '/content/drive/My Drive/Diplomado Python/Notebooks & Resources/Proyecto Final/Clementi'\n",
        "\n",
        "midi_files = []\n",
        "pathfiles = []\n",
        "for subdir, dirs, files in os.walk(rootdir):\n",
        "    for file in files:\n",
        "        filename = os.path.join(subdir, file)\n",
        "        midi_files.append(file)\n",
        "        pathfiles.append(filename)\n",
        "print(midi_files[-3:])\n",
        "root_files = [x[:-4] for x in midi_files]\n",
        "img_files = [x[:-4]+'.png' for x in midi_files]\n",
        "print(root_files[-3:])\n",
        "print(img_files[-3:])"
      ],
      "execution_count": null,
      "outputs": [
        {
          "output_type": "stream",
          "text": [
            "['clementi_opus36_4_1.mid', 'clementi_opus36_5_2.mid', 'clementi_opus36_6_1.mid']\n",
            "['clementi_opus36_4_1', 'clementi_opus36_5_2', 'clementi_opus36_6_1']\n",
            "['clementi_opus36_4_1.png', 'clementi_opus36_5_2.png', 'clementi_opus36_6_1.png']\n"
          ],
          "name": "stdout"
        }
      ]
    },
    {
      "cell_type": "markdown",
      "metadata": {
        "id": "iT-H7HxLzcQD",
        "colab_type": "text"
      },
      "source": [
        "Crear dataframe con nuevos archivos"
      ]
    },
    {
      "cell_type": "code",
      "metadata": {
        "id": "EPbLU1dMkN7N",
        "colab_type": "code",
        "colab": {
          "base_uri": "https://localhost:8080/",
          "height": 878
        },
        "outputId": "45e93d9f-d81b-46b8-fd9d-50f2c39a8b4f"
      },
      "source": [
        "colz = midi_info_pd.columns.to_list()\n",
        "n = len(root_files)\n",
        "m = len(colz)\n",
        "comps = ['' for k in range(n)]\n",
        "periods = ['' for k in range(n)]\n",
        "haz_image = [False for k in range(n)]\n",
        "haz_broken = [False for k in range(n)]\n",
        "lists = [img_files,pathfiles,comps,periods,haz_image,haz_broken,root_files]\n",
        "datos = {colz[k]:lists[k] for k in range(m)}\n",
        "new_files_df = pd.DataFrame(data=datos)\n",
        "\n",
        "new_files_df"
      ],
      "execution_count": null,
      "outputs": [
        {
          "output_type": "execute_result",
          "data": {
            "text/html": [
              "<div>\n",
              "<style scoped>\n",
              "    .dataframe tbody tr th:only-of-type {\n",
              "        vertical-align: middle;\n",
              "    }\n",
              "\n",
              "    .dataframe tbody tr th {\n",
              "        vertical-align: top;\n",
              "    }\n",
              "\n",
              "    .dataframe thead th {\n",
              "        text-align: right;\n",
              "    }\n",
              "</style>\n",
              "<table border=\"1\" class=\"dataframe\">\n",
              "  <thead>\n",
              "    <tr style=\"text-align: right;\">\n",
              "      <th></th>\n",
              "      <th>img_Filename</th>\n",
              "      <th>Path</th>\n",
              "      <th>Composer</th>\n",
              "      <th>Period</th>\n",
              "      <th>Image</th>\n",
              "      <th>Broken</th>\n",
              "      <th>root_Filename</th>\n",
              "    </tr>\n",
              "  </thead>\n",
              "  <tbody>\n",
              "    <tr>\n",
              "      <th>0</th>\n",
              "      <td>clementi_opus36_1_2.png</td>\n",
              "      <td>/content/drive/My Drive/Diplomado Python/Noteb...</td>\n",
              "      <td></td>\n",
              "      <td></td>\n",
              "      <td>False</td>\n",
              "      <td>False</td>\n",
              "      <td>clementi_opus36_1_2</td>\n",
              "    </tr>\n",
              "    <tr>\n",
              "      <th>1</th>\n",
              "      <td>clementi_opus36_6_2.png</td>\n",
              "      <td>/content/drive/My Drive/Diplomado Python/Noteb...</td>\n",
              "      <td></td>\n",
              "      <td></td>\n",
              "      <td>False</td>\n",
              "      <td>False</td>\n",
              "      <td>clementi_opus36_6_2</td>\n",
              "    </tr>\n",
              "    <tr>\n",
              "      <th>2</th>\n",
              "      <td>clementi_opus36_5_1.png</td>\n",
              "      <td>/content/drive/My Drive/Diplomado Python/Noteb...</td>\n",
              "      <td></td>\n",
              "      <td></td>\n",
              "      <td>False</td>\n",
              "      <td>False</td>\n",
              "      <td>clementi_opus36_5_1</td>\n",
              "    </tr>\n",
              "    <tr>\n",
              "      <th>3</th>\n",
              "      <td>clementi_opus36_3_2.png</td>\n",
              "      <td>/content/drive/My Drive/Diplomado Python/Noteb...</td>\n",
              "      <td></td>\n",
              "      <td></td>\n",
              "      <td>False</td>\n",
              "      <td>False</td>\n",
              "      <td>clementi_opus36_3_2</td>\n",
              "    </tr>\n",
              "    <tr>\n",
              "      <th>4</th>\n",
              "      <td>clementi_opus36_1_1.png</td>\n",
              "      <td>/content/drive/My Drive/Diplomado Python/Noteb...</td>\n",
              "      <td></td>\n",
              "      <td></td>\n",
              "      <td>False</td>\n",
              "      <td>False</td>\n",
              "      <td>clementi_opus36_1_1</td>\n",
              "    </tr>\n",
              "    <tr>\n",
              "      <th>5</th>\n",
              "      <td>clementi_opus36_2_3.png</td>\n",
              "      <td>/content/drive/My Drive/Diplomado Python/Noteb...</td>\n",
              "      <td></td>\n",
              "      <td></td>\n",
              "      <td>False</td>\n",
              "      <td>False</td>\n",
              "      <td>clementi_opus36_2_3</td>\n",
              "    </tr>\n",
              "    <tr>\n",
              "      <th>6</th>\n",
              "      <td>clementi_opus36_2_1.png</td>\n",
              "      <td>/content/drive/My Drive/Diplomado Python/Noteb...</td>\n",
              "      <td></td>\n",
              "      <td></td>\n",
              "      <td>False</td>\n",
              "      <td>False</td>\n",
              "      <td>clementi_opus36_2_1</td>\n",
              "    </tr>\n",
              "    <tr>\n",
              "      <th>7</th>\n",
              "      <td>clementi_opus36_3_1.png</td>\n",
              "      <td>/content/drive/My Drive/Diplomado Python/Noteb...</td>\n",
              "      <td></td>\n",
              "      <td></td>\n",
              "      <td>False</td>\n",
              "      <td>False</td>\n",
              "      <td>clementi_opus36_3_1</td>\n",
              "    </tr>\n",
              "    <tr>\n",
              "      <th>8</th>\n",
              "      <td>clementi_opus36_4_2.png</td>\n",
              "      <td>/content/drive/My Drive/Diplomado Python/Noteb...</td>\n",
              "      <td></td>\n",
              "      <td></td>\n",
              "      <td>False</td>\n",
              "      <td>False</td>\n",
              "      <td>clementi_opus36_4_2</td>\n",
              "    </tr>\n",
              "    <tr>\n",
              "      <th>9</th>\n",
              "      <td>clementi_opus36_4_3.png</td>\n",
              "      <td>/content/drive/My Drive/Diplomado Python/Noteb...</td>\n",
              "      <td></td>\n",
              "      <td></td>\n",
              "      <td>False</td>\n",
              "      <td>False</td>\n",
              "      <td>clementi_opus36_4_3</td>\n",
              "    </tr>\n",
              "    <tr>\n",
              "      <th>10</th>\n",
              "      <td>clementi_opus36_3_3.png</td>\n",
              "      <td>/content/drive/My Drive/Diplomado Python/Noteb...</td>\n",
              "      <td></td>\n",
              "      <td></td>\n",
              "      <td>False</td>\n",
              "      <td>False</td>\n",
              "      <td>clementi_opus36_3_3</td>\n",
              "    </tr>\n",
              "    <tr>\n",
              "      <th>11</th>\n",
              "      <td>clementi_opus36_5_3.png</td>\n",
              "      <td>/content/drive/My Drive/Diplomado Python/Noteb...</td>\n",
              "      <td></td>\n",
              "      <td></td>\n",
              "      <td>False</td>\n",
              "      <td>False</td>\n",
              "      <td>clementi_opus36_5_3</td>\n",
              "    </tr>\n",
              "    <tr>\n",
              "      <th>12</th>\n",
              "      <td>clementi_opus36_1_3.png</td>\n",
              "      <td>/content/drive/My Drive/Diplomado Python/Noteb...</td>\n",
              "      <td></td>\n",
              "      <td></td>\n",
              "      <td>False</td>\n",
              "      <td>False</td>\n",
              "      <td>clementi_opus36_1_3</td>\n",
              "    </tr>\n",
              "    <tr>\n",
              "      <th>13</th>\n",
              "      <td>clementi_opus36_2_2.png</td>\n",
              "      <td>/content/drive/My Drive/Diplomado Python/Noteb...</td>\n",
              "      <td></td>\n",
              "      <td></td>\n",
              "      <td>False</td>\n",
              "      <td>False</td>\n",
              "      <td>clementi_opus36_2_2</td>\n",
              "    </tr>\n",
              "    <tr>\n",
              "      <th>14</th>\n",
              "      <td>clementi_opus36_4_1.png</td>\n",
              "      <td>/content/drive/My Drive/Diplomado Python/Noteb...</td>\n",
              "      <td></td>\n",
              "      <td></td>\n",
              "      <td>False</td>\n",
              "      <td>False</td>\n",
              "      <td>clementi_opus36_4_1</td>\n",
              "    </tr>\n",
              "    <tr>\n",
              "      <th>15</th>\n",
              "      <td>clementi_opus36_5_2.png</td>\n",
              "      <td>/content/drive/My Drive/Diplomado Python/Noteb...</td>\n",
              "      <td></td>\n",
              "      <td></td>\n",
              "      <td>False</td>\n",
              "      <td>False</td>\n",
              "      <td>clementi_opus36_5_2</td>\n",
              "    </tr>\n",
              "    <tr>\n",
              "      <th>16</th>\n",
              "      <td>clementi_opus36_6_1.png</td>\n",
              "      <td>/content/drive/My Drive/Diplomado Python/Noteb...</td>\n",
              "      <td></td>\n",
              "      <td></td>\n",
              "      <td>False</td>\n",
              "      <td>False</td>\n",
              "      <td>clementi_opus36_6_1</td>\n",
              "    </tr>\n",
              "  </tbody>\n",
              "</table>\n",
              "</div>"
            ],
            "text/plain": [
              "               img_Filename  ...        root_Filename\n",
              "0   clementi_opus36_1_2.png  ...  clementi_opus36_1_2\n",
              "1   clementi_opus36_6_2.png  ...  clementi_opus36_6_2\n",
              "2   clementi_opus36_5_1.png  ...  clementi_opus36_5_1\n",
              "3   clementi_opus36_3_2.png  ...  clementi_opus36_3_2\n",
              "4   clementi_opus36_1_1.png  ...  clementi_opus36_1_1\n",
              "5   clementi_opus36_2_3.png  ...  clementi_opus36_2_3\n",
              "6   clementi_opus36_2_1.png  ...  clementi_opus36_2_1\n",
              "7   clementi_opus36_3_1.png  ...  clementi_opus36_3_1\n",
              "8   clementi_opus36_4_2.png  ...  clementi_opus36_4_2\n",
              "9   clementi_opus36_4_3.png  ...  clementi_opus36_4_3\n",
              "10  clementi_opus36_3_3.png  ...  clementi_opus36_3_3\n",
              "11  clementi_opus36_5_3.png  ...  clementi_opus36_5_3\n",
              "12  clementi_opus36_1_3.png  ...  clementi_opus36_1_3\n",
              "13  clementi_opus36_2_2.png  ...  clementi_opus36_2_2\n",
              "14  clementi_opus36_4_1.png  ...  clementi_opus36_4_1\n",
              "15  clementi_opus36_5_2.png  ...  clementi_opus36_5_2\n",
              "16  clementi_opus36_6_1.png  ...  clementi_opus36_6_1\n",
              "\n",
              "[17 rows x 7 columns]"
            ]
          },
          "metadata": {
            "tags": []
          },
          "execution_count": 74
        }
      ]
    },
    {
      "cell_type": "code",
      "metadata": {
        "id": "w1_gO6BWzwZi",
        "colab_type": "code",
        "colab": {
          "base_uri": "https://localhost:8080/",
          "height": 359
        },
        "outputId": "877f972a-ae58-4357-d6e6-fb8fa4b2b142"
      },
      "source": [
        "def GenerarImagenes_1stTime(rootdir,img_path,files_df,df_filename):\n",
        "    k = 0\n",
        "    for subdir, dirs, files in os.walk(rootdir):\n",
        "        for file in files:\n",
        "            filename = os.path.join(subdir, file)\n",
        "            [idx] = files_df[files_df['root_Filename'] == file[:-4]].index.tolist()\n",
        "            try:\n",
        "                mid_bar = MidiFile(filename)\n",
        "                img_filename = img_path + file[:-3] + 'png'\n",
        "                mid_bar.draw_roll(img_filename,show=False)\n",
        "                files_df.at[idx,'Image'] = True\n",
        "            except:\n",
        "                print(\"El archivo\",file,\"no se puede leer\")\n",
        "                files_df.at[idx,'Broken'] = True\n",
        "            files_df.to_pickle(df_filename)\n",
        "            print(k)\n",
        "            k += 1\n",
        "\n",
        "df_filename = '/content/drive/My Drive/Diplomado Python/Notebooks & Resources/Proyecto Final/dataset_clem.p'\n",
        "rootdir = '/content/drive/My Drive/Diplomado Python/Notebooks & Resources/Proyecto Final/Clementi'\n",
        "img_path = '/content/drive/My Drive/Diplomado Python/Notebooks & Resources/Proyecto Final/Images/'\n",
        "GenerarImagenes_1stTime(rootdir,img_path,new_files_df,df_filename)"
      ],
      "execution_count": null,
      "outputs": [
        {
          "output_type": "stream",
          "text": [
            "/usr/local/lib/python3.6/dist-packages/ipykernel_launcher.py:138: RuntimeWarning: More than 20 figures have been opened. Figures created through the pyplot interface (`matplotlib.pyplot.figure`) are retained until explicitly closed and may consume too much memory. (To control this warning, see the rcParam `figure.max_open_warning`).\n"
          ],
          "name": "stderr"
        },
        {
          "output_type": "stream",
          "text": [
            "0\n",
            "1\n",
            "2\n",
            "3\n",
            "4\n",
            "5\n",
            "6\n",
            "7\n",
            "8\n",
            "9\n",
            "10\n",
            "11\n",
            "12\n",
            "13\n",
            "14\n",
            "15\n",
            "16\n"
          ],
          "name": "stdout"
        }
      ]
    },
    {
      "cell_type": "code",
      "metadata": {
        "id": "3H0bVhfL2jZp",
        "colab_type": "code",
        "colab": {
          "base_uri": "https://localhost:8080/",
          "height": 597
        },
        "outputId": "1bfca4e0-901f-4b40-95cd-0b515f1bb0d3"
      },
      "source": [
        "midi_info_pd =  midi_info_pd.append(new_files_df,ignore_index=True)\n",
        "midi_info_pd\n",
        "# new_files_df['Composer'] = 'Clementi'\n",
        "# new_files_df"
      ],
      "execution_count": null,
      "outputs": [
        {
          "output_type": "execute_result",
          "data": {
            "text/html": [
              "<div>\n",
              "<style scoped>\n",
              "    .dataframe tbody tr th:only-of-type {\n",
              "        vertical-align: middle;\n",
              "    }\n",
              "\n",
              "    .dataframe tbody tr th {\n",
              "        vertical-align: top;\n",
              "    }\n",
              "\n",
              "    .dataframe thead th {\n",
              "        text-align: right;\n",
              "    }\n",
              "</style>\n",
              "<table border=\"1\" class=\"dataframe\">\n",
              "  <thead>\n",
              "    <tr style=\"text-align: right;\">\n",
              "      <th></th>\n",
              "      <th>img_Filename</th>\n",
              "      <th>Path</th>\n",
              "      <th>Composer</th>\n",
              "      <th>Period</th>\n",
              "      <th>Image</th>\n",
              "      <th>Broken</th>\n",
              "      <th>root_Filename</th>\n",
              "    </tr>\n",
              "  </thead>\n",
              "  <tbody>\n",
              "    <tr>\n",
              "      <th>0</th>\n",
              "      <td>chpn_op25_e2.png</td>\n",
              "      <td>/content/drive/My Drive/Diplomado Python/Noteb...</td>\n",
              "      <td>Chopin</td>\n",
              "      <td></td>\n",
              "      <td>True</td>\n",
              "      <td>False</td>\n",
              "      <td>chpn_op25_e2</td>\n",
              "    </tr>\n",
              "    <tr>\n",
              "      <th>1</th>\n",
              "      <td>chpn_op25_e4.png</td>\n",
              "      <td>/content/drive/My Drive/Diplomado Python/Noteb...</td>\n",
              "      <td>Chopin</td>\n",
              "      <td></td>\n",
              "      <td>True</td>\n",
              "      <td>False</td>\n",
              "      <td>chpn_op25_e4</td>\n",
              "    </tr>\n",
              "    <tr>\n",
              "      <th>2</th>\n",
              "      <td>chp_op18.png</td>\n",
              "      <td>/content/drive/My Drive/Diplomado Python/Noteb...</td>\n",
              "      <td>Chopin</td>\n",
              "      <td></td>\n",
              "      <td>True</td>\n",
              "      <td>False</td>\n",
              "      <td>chp_op18</td>\n",
              "    </tr>\n",
              "    <tr>\n",
              "      <th>3</th>\n",
              "      <td>chpn_op7_1.png</td>\n",
              "      <td>/content/drive/My Drive/Diplomado Python/Noteb...</td>\n",
              "      <td>Chopin</td>\n",
              "      <td></td>\n",
              "      <td>True</td>\n",
              "      <td>False</td>\n",
              "      <td>chpn_op7_1</td>\n",
              "    </tr>\n",
              "    <tr>\n",
              "      <th>4</th>\n",
              "      <td>chpn_op35_4.png</td>\n",
              "      <td>/content/drive/My Drive/Diplomado Python/Noteb...</td>\n",
              "      <td>Chopin</td>\n",
              "      <td></td>\n",
              "      <td>True</td>\n",
              "      <td>False</td>\n",
              "      <td>chpn_op35_4</td>\n",
              "    </tr>\n",
              "    <tr>\n",
              "      <th>...</th>\n",
              "      <td>...</td>\n",
              "      <td>...</td>\n",
              "      <td>...</td>\n",
              "      <td>...</td>\n",
              "      <td>...</td>\n",
              "      <td>...</td>\n",
              "      <td>...</td>\n",
              "    </tr>\n",
              "    <tr>\n",
              "      <th>326</th>\n",
              "      <td>clementi_opus36_1_3.png</td>\n",
              "      <td>/content/drive/My Drive/Diplomado Python/Noteb...</td>\n",
              "      <td>Clementi</td>\n",
              "      <td></td>\n",
              "      <td>True</td>\n",
              "      <td>False</td>\n",
              "      <td>clementi_opus36_1_3</td>\n",
              "    </tr>\n",
              "    <tr>\n",
              "      <th>327</th>\n",
              "      <td>clementi_opus36_2_2.png</td>\n",
              "      <td>/content/drive/My Drive/Diplomado Python/Noteb...</td>\n",
              "      <td>Clementi</td>\n",
              "      <td></td>\n",
              "      <td>True</td>\n",
              "      <td>False</td>\n",
              "      <td>clementi_opus36_2_2</td>\n",
              "    </tr>\n",
              "    <tr>\n",
              "      <th>328</th>\n",
              "      <td>clementi_opus36_4_1.png</td>\n",
              "      <td>/content/drive/My Drive/Diplomado Python/Noteb...</td>\n",
              "      <td>Clementi</td>\n",
              "      <td></td>\n",
              "      <td>True</td>\n",
              "      <td>False</td>\n",
              "      <td>clementi_opus36_4_1</td>\n",
              "    </tr>\n",
              "    <tr>\n",
              "      <th>329</th>\n",
              "      <td>clementi_opus36_5_2.png</td>\n",
              "      <td>/content/drive/My Drive/Diplomado Python/Noteb...</td>\n",
              "      <td>Clementi</td>\n",
              "      <td></td>\n",
              "      <td>True</td>\n",
              "      <td>False</td>\n",
              "      <td>clementi_opus36_5_2</td>\n",
              "    </tr>\n",
              "    <tr>\n",
              "      <th>330</th>\n",
              "      <td>clementi_opus36_6_1.png</td>\n",
              "      <td>/content/drive/My Drive/Diplomado Python/Noteb...</td>\n",
              "      <td>Clementi</td>\n",
              "      <td></td>\n",
              "      <td>True</td>\n",
              "      <td>False</td>\n",
              "      <td>clementi_opus36_6_1</td>\n",
              "    </tr>\n",
              "  </tbody>\n",
              "</table>\n",
              "<p>331 rows × 7 columns</p>\n",
              "</div>"
            ],
            "text/plain": [
              "                img_Filename  ...        root_Filename\n",
              "0           chpn_op25_e2.png  ...         chpn_op25_e2\n",
              "1           chpn_op25_e4.png  ...         chpn_op25_e4\n",
              "2               chp_op18.png  ...             chp_op18\n",
              "3             chpn_op7_1.png  ...           chpn_op7_1\n",
              "4            chpn_op35_4.png  ...          chpn_op35_4\n",
              "..                       ...  ...                  ...\n",
              "326  clementi_opus36_1_3.png  ...  clementi_opus36_1_3\n",
              "327  clementi_opus36_2_2.png  ...  clementi_opus36_2_2\n",
              "328  clementi_opus36_4_1.png  ...  clementi_opus36_4_1\n",
              "329  clementi_opus36_5_2.png  ...  clementi_opus36_5_2\n",
              "330  clementi_opus36_6_1.png  ...  clementi_opus36_6_1\n",
              "\n",
              "[331 rows x 7 columns]"
            ]
          },
          "metadata": {
            "tags": []
          },
          "execution_count": 85
        }
      ]
    },
    {
      "cell_type": "code",
      "metadata": {
        "id": "Vj4nQDDu63jw",
        "colab_type": "code",
        "colab": {
          "base_uri": "https://localhost:8080/",
          "height": 424
        },
        "outputId": "62ea00ed-29c1-4170-c3ac-4d277e715817"
      },
      "source": [
        "midi_info_pd.sort_values(by='Composer')"
      ],
      "execution_count": null,
      "outputs": [
        {
          "output_type": "execute_result",
          "data": {
            "text/html": [
              "<div>\n",
              "<style scoped>\n",
              "    .dataframe tbody tr th:only-of-type {\n",
              "        vertical-align: middle;\n",
              "    }\n",
              "\n",
              "    .dataframe tbody tr th {\n",
              "        vertical-align: top;\n",
              "    }\n",
              "\n",
              "    .dataframe thead th {\n",
              "        text-align: right;\n",
              "    }\n",
              "</style>\n",
              "<table border=\"1\" class=\"dataframe\">\n",
              "  <thead>\n",
              "    <tr style=\"text-align: right;\">\n",
              "      <th></th>\n",
              "      <th>img_Filename</th>\n",
              "      <th>Path</th>\n",
              "      <th>Composer</th>\n",
              "      <th>Period</th>\n",
              "      <th>Image</th>\n",
              "      <th>Broken</th>\n",
              "      <th>root_Filename</th>\n",
              "    </tr>\n",
              "  </thead>\n",
              "  <tbody>\n",
              "    <tr>\n",
              "      <th>192</th>\n",
              "      <td>alb_se6.png</td>\n",
              "      <td>/content/drive/My Drive/Diplomado Python/Noteb...</td>\n",
              "      <td>Albéniz</td>\n",
              "      <td></td>\n",
              "      <td>True</td>\n",
              "      <td>False</td>\n",
              "      <td>alb_se6</td>\n",
              "    </tr>\n",
              "    <tr>\n",
              "      <th>191</th>\n",
              "      <td>alb_se7.png</td>\n",
              "      <td>/content/drive/My Drive/Diplomado Python/Noteb...</td>\n",
              "      <td>Albéniz</td>\n",
              "      <td></td>\n",
              "      <td>True</td>\n",
              "      <td>False</td>\n",
              "      <td>alb_se7</td>\n",
              "    </tr>\n",
              "    <tr>\n",
              "      <th>179</th>\n",
              "      <td>alb_esp4.png</td>\n",
              "      <td>/content/drive/My Drive/Diplomado Python/Noteb...</td>\n",
              "      <td>Albéniz</td>\n",
              "      <td></td>\n",
              "      <td>True</td>\n",
              "      <td>False</td>\n",
              "      <td>alb_esp4</td>\n",
              "    </tr>\n",
              "    <tr>\n",
              "      <th>181</th>\n",
              "      <td>alb_esp1.png</td>\n",
              "      <td>/content/drive/My Drive/Diplomado Python/Noteb...</td>\n",
              "      <td>Albéniz</td>\n",
              "      <td></td>\n",
              "      <td>True</td>\n",
              "      <td>False</td>\n",
              "      <td>alb_esp1</td>\n",
              "    </tr>\n",
              "    <tr>\n",
              "      <th>182</th>\n",
              "      <td>alb_esp2.png</td>\n",
              "      <td>/content/drive/My Drive/Diplomado Python/Noteb...</td>\n",
              "      <td>Albéniz</td>\n",
              "      <td></td>\n",
              "      <td>True</td>\n",
              "      <td>False</td>\n",
              "      <td>alb_esp2</td>\n",
              "    </tr>\n",
              "    <tr>\n",
              "      <th>...</th>\n",
              "      <td>...</td>\n",
              "      <td>...</td>\n",
              "      <td>...</td>\n",
              "      <td>...</td>\n",
              "      <td>...</td>\n",
              "      <td>...</td>\n",
              "      <td>...</td>\n",
              "    </tr>\n",
              "    <tr>\n",
              "      <th>239</th>\n",
              "      <td>ty_juli.png</td>\n",
              "      <td>/content/drive/My Drive/Diplomado Python/Noteb...</td>\n",
              "      <td>Tchaikovsky</td>\n",
              "      <td></td>\n",
              "      <td>True</td>\n",
              "      <td>False</td>\n",
              "      <td>ty_juli</td>\n",
              "    </tr>\n",
              "    <tr>\n",
              "      <th>240</th>\n",
              "      <td>ty_oktober.png</td>\n",
              "      <td>/content/drive/My Drive/Diplomado Python/Noteb...</td>\n",
              "      <td>Tchaikovsky</td>\n",
              "      <td></td>\n",
              "      <td>True</td>\n",
              "      <td>False</td>\n",
              "      <td>ty_oktober</td>\n",
              "    </tr>\n",
              "    <tr>\n",
              "      <th>241</th>\n",
              "      <td>ty_september.png</td>\n",
              "      <td>/content/drive/My Drive/Diplomado Python/Noteb...</td>\n",
              "      <td>Tchaikovsky</td>\n",
              "      <td></td>\n",
              "      <td>True</td>\n",
              "      <td>False</td>\n",
              "      <td>ty_september</td>\n",
              "    </tr>\n",
              "    <tr>\n",
              "      <th>235</th>\n",
              "      <td>ty_april.png</td>\n",
              "      <td>/content/drive/My Drive/Diplomado Python/Noteb...</td>\n",
              "      <td>Tchaikovsky</td>\n",
              "      <td></td>\n",
              "      <td>True</td>\n",
              "      <td>False</td>\n",
              "      <td>ty_april</td>\n",
              "    </tr>\n",
              "    <tr>\n",
              "      <th>234</th>\n",
              "      <td>ty_juni.png</td>\n",
              "      <td>/content/drive/My Drive/Diplomado Python/Noteb...</td>\n",
              "      <td>Tchaikovsky</td>\n",
              "      <td></td>\n",
              "      <td>True</td>\n",
              "      <td>False</td>\n",
              "      <td>ty_juni</td>\n",
              "    </tr>\n",
              "  </tbody>\n",
              "</table>\n",
              "<p>331 rows × 7 columns</p>\n",
              "</div>"
            ],
            "text/plain": [
              "         img_Filename  ... root_Filename\n",
              "192       alb_se6.png  ...       alb_se6\n",
              "191       alb_se7.png  ...       alb_se7\n",
              "179      alb_esp4.png  ...      alb_esp4\n",
              "181      alb_esp1.png  ...      alb_esp1\n",
              "182      alb_esp2.png  ...      alb_esp2\n",
              "..                ...  ...           ...\n",
              "239       ty_juli.png  ...       ty_juli\n",
              "240    ty_oktober.png  ...    ty_oktober\n",
              "241  ty_september.png  ...  ty_september\n",
              "235      ty_april.png  ...      ty_april\n",
              "234       ty_juni.png  ...       ty_juni\n",
              "\n",
              "[331 rows x 7 columns]"
            ]
          },
          "metadata": {
            "tags": []
          },
          "execution_count": 91
        }
      ]
    },
    {
      "cell_type": "code",
      "metadata": {
        "id": "Kuz6YWEJ7BYl",
        "colab_type": "code",
        "colab": {
          "base_uri": "https://localhost:8080/",
          "height": 464
        },
        "outputId": "44e96c24-08c4-4a52-9505-98c955aea54e"
      },
      "source": [
        "periods_dict"
      ],
      "execution_count": null,
      "outputs": [
        {
          "output_type": "execute_result",
          "data": {
            "text/plain": [
              "{'Albéniz': 'Romanticism',\n",
              " 'Bach': 'Baroque',\n",
              " 'Balakirew': 'Romanticism',\n",
              " 'Beethoven': 'Classicism',\n",
              " 'Borodin': 'Romanticism',\n",
              " 'Brahms': 'Romanticism',\n",
              " 'Burgmueller': 'Romanticism',\n",
              " 'Chopin': 'Romanticism',\n",
              " 'Clementi': 'Classicism',\n",
              " 'Debussy': 'Romanticism',\n",
              " 'Godowsky': 'Romanticism',\n",
              " 'Granados': 'Romanticism',\n",
              " 'Grieg': 'Romanticism',\n",
              " 'Haydn': 'Classicism',\n",
              " 'Liszt': 'Romanticism',\n",
              " 'Mendelssohn': 'Romanticism',\n",
              " 'Moszkowski': 'Romanticism',\n",
              " 'Mozart': 'Classicism',\n",
              " 'Mussorgsky': 'Romanticism',\n",
              " 'Rachmaninov': 'Romanticism',\n",
              " 'Ravel': 'Romanticism',\n",
              " 'Schubert': 'Romanticism',\n",
              " 'Schumann': 'Romanticism',\n",
              " 'Sinding': 'Romanticism',\n",
              " 'Tchaikovsky': 'Romanticism'}"
            ]
          },
          "metadata": {
            "tags": []
          },
          "execution_count": 92
        }
      ]
    },
    {
      "cell_type": "code",
      "metadata": {
        "id": "FaBC7QSH85DT",
        "colab_type": "code",
        "colab": {
          "base_uri": "https://localhost:8080/",
          "height": 35
        },
        "outputId": "a54ac1a1-47f1-4628-b036-02c209af3023"
      },
      "source": [
        "midi_info_pd"
      ],
      "execution_count": null,
      "outputs": [
        {
          "output_type": "execute_result",
          "data": {
            "text/plain": [
              "False"
            ]
          },
          "metadata": {
            "tags": []
          },
          "execution_count": 108
        }
      ]
    },
    {
      "cell_type": "code",
      "metadata": {
        "id": "ULl2XNdY77bd",
        "colab_type": "code",
        "colab": {}
      },
      "source": [
        "idxs = midi_info_pd[midi_info_pd['Composer']=='Albéniz'].index.to_list()\n",
        "midi_info_pd.loc[idxs,'Composer'] = 'Albéniz'"
      ],
      "execution_count": null,
      "outputs": []
    },
    {
      "cell_type": "code",
      "metadata": {
        "id": "Z6GhH9t84jJb",
        "colab_type": "code",
        "colab": {
          "base_uri": "https://localhost:8080/",
          "height": 597
        },
        "outputId": "c2b590a6-d095-442a-85a9-b28ed2d32f0a"
      },
      "source": [
        "periods_dict = {composers_df.loc[k,'last_name']:composers_df.loc[k,'period'] \n",
        "                for k in range(composers_df.shape[0])}\n",
        "\n",
        "midi_info_pd['Period'] = [periods_dict[midi_info_pd.at[k,'Composer']] for k in range(midi_info_pd.shape[0])]\n",
        "midi_info_pd"
      ],
      "execution_count": null,
      "outputs": [
        {
          "output_type": "execute_result",
          "data": {
            "text/html": [
              "<div>\n",
              "<style scoped>\n",
              "    .dataframe tbody tr th:only-of-type {\n",
              "        vertical-align: middle;\n",
              "    }\n",
              "\n",
              "    .dataframe tbody tr th {\n",
              "        vertical-align: top;\n",
              "    }\n",
              "\n",
              "    .dataframe thead th {\n",
              "        text-align: right;\n",
              "    }\n",
              "</style>\n",
              "<table border=\"1\" class=\"dataframe\">\n",
              "  <thead>\n",
              "    <tr style=\"text-align: right;\">\n",
              "      <th></th>\n",
              "      <th>img_Filename</th>\n",
              "      <th>Path</th>\n",
              "      <th>Composer</th>\n",
              "      <th>Period</th>\n",
              "      <th>Image</th>\n",
              "      <th>Broken</th>\n",
              "      <th>root_Filename</th>\n",
              "    </tr>\n",
              "  </thead>\n",
              "  <tbody>\n",
              "    <tr>\n",
              "      <th>0</th>\n",
              "      <td>chpn_op25_e2.png</td>\n",
              "      <td>/content/drive/My Drive/Diplomado Python/Noteb...</td>\n",
              "      <td>Chopin</td>\n",
              "      <td>Romanticism</td>\n",
              "      <td>True</td>\n",
              "      <td>False</td>\n",
              "      <td>chpn_op25_e2</td>\n",
              "    </tr>\n",
              "    <tr>\n",
              "      <th>1</th>\n",
              "      <td>chpn_op25_e4.png</td>\n",
              "      <td>/content/drive/My Drive/Diplomado Python/Noteb...</td>\n",
              "      <td>Chopin</td>\n",
              "      <td>Romanticism</td>\n",
              "      <td>True</td>\n",
              "      <td>False</td>\n",
              "      <td>chpn_op25_e4</td>\n",
              "    </tr>\n",
              "    <tr>\n",
              "      <th>2</th>\n",
              "      <td>chp_op18.png</td>\n",
              "      <td>/content/drive/My Drive/Diplomado Python/Noteb...</td>\n",
              "      <td>Chopin</td>\n",
              "      <td>Romanticism</td>\n",
              "      <td>True</td>\n",
              "      <td>False</td>\n",
              "      <td>chp_op18</td>\n",
              "    </tr>\n",
              "    <tr>\n",
              "      <th>3</th>\n",
              "      <td>chpn_op7_1.png</td>\n",
              "      <td>/content/drive/My Drive/Diplomado Python/Noteb...</td>\n",
              "      <td>Chopin</td>\n",
              "      <td>Romanticism</td>\n",
              "      <td>True</td>\n",
              "      <td>False</td>\n",
              "      <td>chpn_op7_1</td>\n",
              "    </tr>\n",
              "    <tr>\n",
              "      <th>4</th>\n",
              "      <td>chpn_op35_4.png</td>\n",
              "      <td>/content/drive/My Drive/Diplomado Python/Noteb...</td>\n",
              "      <td>Chopin</td>\n",
              "      <td>Romanticism</td>\n",
              "      <td>True</td>\n",
              "      <td>False</td>\n",
              "      <td>chpn_op35_4</td>\n",
              "    </tr>\n",
              "    <tr>\n",
              "      <th>...</th>\n",
              "      <td>...</td>\n",
              "      <td>...</td>\n",
              "      <td>...</td>\n",
              "      <td>...</td>\n",
              "      <td>...</td>\n",
              "      <td>...</td>\n",
              "      <td>...</td>\n",
              "    </tr>\n",
              "    <tr>\n",
              "      <th>326</th>\n",
              "      <td>clementi_opus36_1_3.png</td>\n",
              "      <td>/content/drive/My Drive/Diplomado Python/Noteb...</td>\n",
              "      <td>Clementi</td>\n",
              "      <td>Classicism</td>\n",
              "      <td>True</td>\n",
              "      <td>False</td>\n",
              "      <td>clementi_opus36_1_3</td>\n",
              "    </tr>\n",
              "    <tr>\n",
              "      <th>327</th>\n",
              "      <td>clementi_opus36_2_2.png</td>\n",
              "      <td>/content/drive/My Drive/Diplomado Python/Noteb...</td>\n",
              "      <td>Clementi</td>\n",
              "      <td>Classicism</td>\n",
              "      <td>True</td>\n",
              "      <td>False</td>\n",
              "      <td>clementi_opus36_2_2</td>\n",
              "    </tr>\n",
              "    <tr>\n",
              "      <th>328</th>\n",
              "      <td>clementi_opus36_4_1.png</td>\n",
              "      <td>/content/drive/My Drive/Diplomado Python/Noteb...</td>\n",
              "      <td>Clementi</td>\n",
              "      <td>Classicism</td>\n",
              "      <td>True</td>\n",
              "      <td>False</td>\n",
              "      <td>clementi_opus36_4_1</td>\n",
              "    </tr>\n",
              "    <tr>\n",
              "      <th>329</th>\n",
              "      <td>clementi_opus36_5_2.png</td>\n",
              "      <td>/content/drive/My Drive/Diplomado Python/Noteb...</td>\n",
              "      <td>Clementi</td>\n",
              "      <td>Classicism</td>\n",
              "      <td>True</td>\n",
              "      <td>False</td>\n",
              "      <td>clementi_opus36_5_2</td>\n",
              "    </tr>\n",
              "    <tr>\n",
              "      <th>330</th>\n",
              "      <td>clementi_opus36_6_1.png</td>\n",
              "      <td>/content/drive/My Drive/Diplomado Python/Noteb...</td>\n",
              "      <td>Clementi</td>\n",
              "      <td>Classicism</td>\n",
              "      <td>True</td>\n",
              "      <td>False</td>\n",
              "      <td>clementi_opus36_6_1</td>\n",
              "    </tr>\n",
              "  </tbody>\n",
              "</table>\n",
              "<p>331 rows × 7 columns</p>\n",
              "</div>"
            ],
            "text/plain": [
              "                img_Filename  ...        root_Filename\n",
              "0           chpn_op25_e2.png  ...         chpn_op25_e2\n",
              "1           chpn_op25_e4.png  ...         chpn_op25_e4\n",
              "2               chp_op18.png  ...             chp_op18\n",
              "3             chpn_op7_1.png  ...           chpn_op7_1\n",
              "4            chpn_op35_4.png  ...          chpn_op35_4\n",
              "..                       ...  ...                  ...\n",
              "326  clementi_opus36_1_3.png  ...  clementi_opus36_1_3\n",
              "327  clementi_opus36_2_2.png  ...  clementi_opus36_2_2\n",
              "328  clementi_opus36_4_1.png  ...  clementi_opus36_4_1\n",
              "329  clementi_opus36_5_2.png  ...  clementi_opus36_5_2\n",
              "330  clementi_opus36_6_1.png  ...  clementi_opus36_6_1\n",
              "\n",
              "[331 rows x 7 columns]"
            ]
          },
          "metadata": {
            "tags": []
          },
          "execution_count": 110
        }
      ]
    },
    {
      "cell_type": "code",
      "metadata": {
        "id": "vwAVM2-NkoAL",
        "colab_type": "code",
        "colab": {}
      },
      "source": [
        "midi_info_pd.to_pickle('/content/drive/My Drive/Diplomado Python/Notebooks & Resources/Proyecto Final/dataset1.p')"
      ],
      "execution_count": null,
      "outputs": []
    },
    {
      "cell_type": "markdown",
      "metadata": {
        "id": "AJ1rlqari6p9",
        "colab_type": "text"
      },
      "source": [
        "# El otro dataset"
      ]
    },
    {
      "cell_type": "code",
      "metadata": {
        "id": "EG6mtQvHXX_5",
        "colab_type": "code",
        "colab": {
          "base_uri": "https://localhost:8080/",
          "height": 35
        },
        "outputId": "115cca53-666a-49d9-a9ff-8765f1cd5406"
      },
      "source": [
        "dataset2_df[dataset2_df['Image'] == True].shape"
      ],
      "execution_count": null,
      "outputs": [
        {
          "output_type": "execute_result",
          "data": {
            "text/plain": [
              "(378, 8)"
            ]
          },
          "metadata": {
            "tags": []
          },
          "execution_count": 19
        }
      ]
    },
    {
      "cell_type": "code",
      "metadata": {
        "id": "SP8_iQY8IfiX",
        "colab_type": "code",
        "colab": {
          "base_uri": "https://localhost:8080/",
          "height": 35
        },
        "outputId": "31141936-0f0e-4564-84f2-047b5ee5a4b5"
      },
      "source": [
        "np.unique(dataset2_df['Image'].values)"
      ],
      "execution_count": null,
      "outputs": [
        {
          "output_type": "execute_result",
          "data": {
            "text/plain": [
              "array([False,  True])"
            ]
          },
          "metadata": {
            "tags": []
          },
          "execution_count": 139
        }
      ]
    },
    {
      "cell_type": "code",
      "metadata": {
        "id": "tvY4q87B1kfY",
        "colab_type": "code",
        "colab": {
          "base_uri": "https://localhost:8080/",
          "height": 965
        },
        "outputId": "77cbd9de-d7a9-4090-cbc4-04999357e3e5"
      },
      "source": [
        "dataset2_df[dataset2_df['Image']==False]"
      ],
      "execution_count": null,
      "outputs": [
        {
          "output_type": "execute_result",
          "data": {
            "text/html": [
              "<div>\n",
              "<style scoped>\n",
              "    .dataframe tbody tr th:only-of-type {\n",
              "        vertical-align: middle;\n",
              "    }\n",
              "\n",
              "    .dataframe tbody tr th {\n",
              "        vertical-align: top;\n",
              "    }\n",
              "\n",
              "    .dataframe thead th {\n",
              "        text-align: right;\n",
              "    }\n",
              "</style>\n",
              "<table border=\"1\" class=\"dataframe\">\n",
              "  <thead>\n",
              "    <tr style=\"text-align: right;\">\n",
              "      <th></th>\n",
              "      <th>img_Filename</th>\n",
              "      <th>Path</th>\n",
              "      <th>composer</th>\n",
              "      <th>Period</th>\n",
              "      <th>Image</th>\n",
              "      <th>Broken</th>\n",
              "      <th>root_Filename</th>\n",
              "      <th>canonical_title</th>\n",
              "    </tr>\n",
              "  </thead>\n",
              "  <tbody>\n",
              "    <tr>\n",
              "      <th>1</th>\n",
              "      <td>MIDI-Unprocessed_03_R2_2008_01-03_ORIG_MID--AU...</td>\n",
              "      <td>/content/drive/My Drive/Diplomado Python/Noteb...</td>\n",
              "      <td>Berg</td>\n",
              "      <td>Romanticism</td>\n",
              "      <td>False</td>\n",
              "      <td>False</td>\n",
              "      <td>MIDI-Unprocessed_03_R2_2008_01-03_ORIG_MID--AU...</td>\n",
              "      <td>Sonata Op. 1</td>\n",
              "    </tr>\n",
              "    <tr>\n",
              "      <th>2</th>\n",
              "      <td>MIDI-Unprocessed_066_PIANO066_MID--AUDIO-split...</td>\n",
              "      <td>/content/drive/My Drive/Diplomado Python/Noteb...</td>\n",
              "      <td>Berg</td>\n",
              "      <td>Romanticism</td>\n",
              "      <td>False</td>\n",
              "      <td>False</td>\n",
              "      <td>MIDI-Unprocessed_066_PIANO066_MID--AUDIO-split...</td>\n",
              "      <td>Sonata Op. 1</td>\n",
              "    </tr>\n",
              "    <tr>\n",
              "      <th>3</th>\n",
              "      <td>MIDI-Unprocessed_XP_21_R1_2004_01_ORIG_MID--AU...</td>\n",
              "      <td>/content/drive/My Drive/Diplomado Python/Noteb...</td>\n",
              "      <td>Scriabin</td>\n",
              "      <td>Romanticism</td>\n",
              "      <td>False</td>\n",
              "      <td>False</td>\n",
              "      <td>MIDI-Unprocessed_XP_21_R1_2004_01_ORIG_MID--AU...</td>\n",
              "      <td>24 Preludes Op. 11, No. 13-24</td>\n",
              "    </tr>\n",
              "    <tr>\n",
              "      <th>4</th>\n",
              "      <td>MIDI-Unprocessed_17_R1_2006_01-06_ORIG_MID--AU...</td>\n",
              "      <td>/content/drive/My Drive/Diplomado Python/Noteb...</td>\n",
              "      <td>Scriabin</td>\n",
              "      <td>Romanticism</td>\n",
              "      <td>False</td>\n",
              "      <td>False</td>\n",
              "      <td>MIDI-Unprocessed_17_R1_2006_01-06_ORIG_MID--AU...</td>\n",
              "      <td>3 Etudes, Op. 65</td>\n",
              "    </tr>\n",
              "    <tr>\n",
              "      <th>5</th>\n",
              "      <td>MIDI-Unprocessed_07_R1_2009_04-05_ORIG_MID--AU...</td>\n",
              "      <td>/content/drive/My Drive/Diplomado Python/Noteb...</td>\n",
              "      <td>Scriabin</td>\n",
              "      <td>Romanticism</td>\n",
              "      <td>False</td>\n",
              "      <td>False</td>\n",
              "      <td>MIDI-Unprocessed_07_R1_2009_04-05_ORIG_MID--AU...</td>\n",
              "      <td>5 Preludes, Op.15</td>\n",
              "    </tr>\n",
              "    <tr>\n",
              "      <th>...</th>\n",
              "      <td>...</td>\n",
              "      <td>...</td>\n",
              "      <td>...</td>\n",
              "      <td>...</td>\n",
              "      <td>...</td>\n",
              "      <td>...</td>\n",
              "      <td>...</td>\n",
              "      <td>...</td>\n",
              "    </tr>\n",
              "    <tr>\n",
              "      <th>1275</th>\n",
              "      <td>ORIG-MIDI_03_7_6_13_Group__MID--AUDIO_09_R1_20...</td>\n",
              "      <td>/content/drive/My Drive/Diplomado Python/Noteb...</td>\n",
              "      <td>Mozart</td>\n",
              "      <td>Classicism</td>\n",
              "      <td>False</td>\n",
              "      <td>False</td>\n",
              "      <td>ORIG-MIDI_03_7_6_13_Group__MID--AUDIO_09_R1_20...</td>\n",
              "      <td>Sonata in F Major, K. 280, 1st mov.</td>\n",
              "    </tr>\n",
              "    <tr>\n",
              "      <th>1276</th>\n",
              "      <td>MIDI-Unprocessed_XP_14_R1_2004_04_ORIG_MID--AU...</td>\n",
              "      <td>/content/drive/My Drive/Diplomado Python/Noteb...</td>\n",
              "      <td>Mozart</td>\n",
              "      <td>Classicism</td>\n",
              "      <td>False</td>\n",
              "      <td>False</td>\n",
              "      <td>MIDI-Unprocessed_XP_14_R1_2004_04_ORIG_MID--AU...</td>\n",
              "      <td>Sonata in F Major, K280</td>\n",
              "    </tr>\n",
              "    <tr>\n",
              "      <th>1277</th>\n",
              "      <td>MIDI-Unprocessed_XP_14_R1_2004_04_ORIG_MID--AU...</td>\n",
              "      <td>/content/drive/My Drive/Diplomado Python/Noteb...</td>\n",
              "      <td>Mozart</td>\n",
              "      <td>Classicism</td>\n",
              "      <td>False</td>\n",
              "      <td>False</td>\n",
              "      <td>MIDI-Unprocessed_XP_14_R1_2004_04_ORIG_MID--AU...</td>\n",
              "      <td>Sonata in F Major, K280</td>\n",
              "    </tr>\n",
              "    <tr>\n",
              "      <th>1278</th>\n",
              "      <td>MIDI-Unprocessed_XP_14_R1_2004_04_ORIG_MID--AU...</td>\n",
              "      <td>/content/drive/My Drive/Diplomado Python/Noteb...</td>\n",
              "      <td>Mozart</td>\n",
              "      <td>Classicism</td>\n",
              "      <td>False</td>\n",
              "      <td>False</td>\n",
              "      <td>MIDI-Unprocessed_XP_14_R1_2004_04_ORIG_MID--AU...</td>\n",
              "      <td>Sonata in F Major, K280</td>\n",
              "    </tr>\n",
              "    <tr>\n",
              "      <th>1281</th>\n",
              "      <td>MIDI-Unprocessed_XP_04_R1_2004_01-02_ORIG_MID-...</td>\n",
              "      <td>/content/drive/My Drive/Diplomado Python/Noteb...</td>\n",
              "      <td>Mozart</td>\n",
              "      <td>Classicism</td>\n",
              "      <td>False</td>\n",
              "      <td>False</td>\n",
              "      <td>MIDI-Unprocessed_XP_04_R1_2004_01-02_ORIG_MID-...</td>\n",
              "      <td>Twelve Variations, K179 (189a)</td>\n",
              "    </tr>\n",
              "  </tbody>\n",
              "</table>\n",
              "<p>850 rows × 8 columns</p>\n",
              "</div>"
            ],
            "text/plain": [
              "                                           img_Filename  ...                      canonical_title\n",
              "1     MIDI-Unprocessed_03_R2_2008_01-03_ORIG_MID--AU...  ...                         Sonata Op. 1\n",
              "2     MIDI-Unprocessed_066_PIANO066_MID--AUDIO-split...  ...                         Sonata Op. 1\n",
              "3     MIDI-Unprocessed_XP_21_R1_2004_01_ORIG_MID--AU...  ...        24 Preludes Op. 11, No. 13-24\n",
              "4     MIDI-Unprocessed_17_R1_2006_01-06_ORIG_MID--AU...  ...                     3 Etudes, Op. 65\n",
              "5     MIDI-Unprocessed_07_R1_2009_04-05_ORIG_MID--AU...  ...                    5 Preludes, Op.15\n",
              "...                                                 ...  ...                                  ...\n",
              "1275  ORIG-MIDI_03_7_6_13_Group__MID--AUDIO_09_R1_20...  ...  Sonata in F Major, K. 280, 1st mov.\n",
              "1276  MIDI-Unprocessed_XP_14_R1_2004_04_ORIG_MID--AU...  ...              Sonata in F Major, K280\n",
              "1277  MIDI-Unprocessed_XP_14_R1_2004_04_ORIG_MID--AU...  ...              Sonata in F Major, K280\n",
              "1278  MIDI-Unprocessed_XP_14_R1_2004_04_ORIG_MID--AU...  ...              Sonata in F Major, K280\n",
              "1281  MIDI-Unprocessed_XP_04_R1_2004_01-02_ORIG_MID-...  ...       Twelve Variations, K179 (189a)\n",
              "\n",
              "[850 rows x 8 columns]"
            ]
          },
          "metadata": {
            "tags": []
          },
          "execution_count": 12
        }
      ]
    },
    {
      "cell_type": "code",
      "metadata": {
        "id": "2Uc4LtXRLPJp",
        "colab_type": "code",
        "colab": {}
      },
      "source": [
        "def GenerarImagenes_continuar(rootdir,img_path,files_df,df_filename):\n",
        "    k = 0\n",
        "    for subdir, dirs, files in os.walk(rootdir):\n",
        "        for file in files:\n",
        "            filename = os.path.join(subdir, file)\n",
        "            idx = files_df[files_df['root_Filename'] == file[:-5]].index.tolist()\n",
        "            k += 1\n",
        "            if len(idx)==0:\n",
        "                break\n",
        "            else:\n",
        "                idx = idx[0]\n",
        "            if k-1<50 and files_df.loc[idx,'Image']==False:\n",
        "                print(idx)\n",
        "                print(files_df.loc[idx,'Image'])\n",
        "            if files_df.loc[idx,'Image'] == False:\n",
        "                try:\n",
        "                    mid_bar = MidiFile(filename)\n",
        "                    img_filename = img_path + files_df.loc[idx,'img_Filename'] #img_path + file[:-3] + 'png'\n",
        "                    mid_bar.draw_roll(img_filename,show=False)\n",
        "                    files_df.loc[idx,'Image'] = True\n",
        "                except:\n",
        "                    print(\"El archivo\",file,\"no se puede leer\")\n",
        "                    files_df.loc[idx,'Broken'] = True                \n",
        "                files_df.to_pickle(df_filename)\n",
        "                msj(k-1)\n",
        "\n",
        "ruta_midis = '/content/drive/My Drive/Diplomado Python/Notebooks & Resources/Proyecto Final/Otro dataset de pianos midis/maestro-v2.0.0'\n",
        "ruta_imagenes = '/content/drive/My Drive/Diplomado Python/Notebooks & Resources/Proyecto Final/Images2/'\n",
        "ruta_dataframe = '/content/drive/My Drive/Diplomado Python/Notebooks & Resources/Proyecto Final/dataset2.p'\n",
        "\n",
        "GenerarImagenes_continuar(ruta_midis,ruta_imagenes,dataset2_df,ruta_dataframe)"
      ],
      "execution_count": null,
      "outputs": []
    },
    {
      "cell_type": "code",
      "metadata": {
        "id": "TE31h15ujQos",
        "colab_type": "code",
        "colab": {}
      },
      "source": [
        "dataset2_df.to_pickle('/content/drive/My Drive/Diplomado Python/Notebooks & Resources/Proyecto Final/dataset2.p')"
      ],
      "execution_count": null,
      "outputs": []
    },
    {
      "cell_type": "markdown",
      "metadata": {
        "id": "yxd_X4F3KJEc",
        "colab_type": "text"
      },
      "source": [
        "Prueba de generar mil mensajes sin que se acabe la memoria"
      ]
    },
    {
      "cell_type": "code",
      "metadata": {
        "id": "phwFFUw4Tjf_",
        "colab_type": "code",
        "colab": {}
      },
      "source": [
        "arr_2d = np.sum(arr,axis=2)"
      ],
      "execution_count": null,
      "outputs": []
    },
    {
      "cell_type": "markdown",
      "metadata": {
        "id": "TEljrd42fW0M",
        "colab_type": "text"
      },
      "source": [
        "# Extras"
      ]
    },
    {
      "cell_type": "markdown",
      "metadata": {
        "id": "caAUyHFijiir",
        "colab_type": "text"
      },
      "source": [
        "## Diccionario de notas y valores"
      ]
    },
    {
      "cell_type": "code",
      "metadata": {
        "id": "B1d7h4aofWCG",
        "colab_type": "code",
        "colab": {
          "base_uri": "https://localhost:8080/",
          "height": 55
        },
        "outputId": "8a1ff4a5-bf0a-4c35-8ae7-023d2b515a93"
      },
      "source": [
        "notas = ['la','sib','si','do','reb','re','mib','mi','fa','solb','sol','lab']\n",
        "note_names_dict = {k:notas[(k-21)%12] for k in range(21,109)}\n",
        "print(note_names_dict)"
      ],
      "execution_count": null,
      "outputs": [
        {
          "output_type": "stream",
          "text": [
            "{21: 'la', 22: 'sib', 23: 'si', 24: 'do', 25: 'reb', 26: 're', 27: 'mib', 28: 'mi', 29: 'fa', 30: 'solb', 31: 'sol', 32: 'lab', 33: 'la', 34: 'sib', 35: 'si', 36: 'do', 37: 'reb', 38: 're', 39: 'mib', 40: 'mi', 41: 'fa', 42: 'solb', 43: 'sol', 44: 'lab', 45: 'la', 46: 'sib', 47: 'si', 48: 'do', 49: 'reb', 50: 're', 51: 'mib', 52: 'mi', 53: 'fa', 54: 'solb', 55: 'sol', 56: 'lab', 57: 'la', 58: 'sib', 59: 'si', 60: 'do', 61: 'reb', 62: 're', 63: 'mib', 64: 'mi', 65: 'fa', 66: 'solb', 67: 'sol', 68: 'lab', 69: 'la', 70: 'sib', 71: 'si', 72: 'do', 73: 'reb', 74: 're', 75: 'mib', 76: 'mi', 77: 'fa', 78: 'solb', 79: 'sol', 80: 'lab', 81: 'la', 82: 'sib', 83: 'si', 84: 'do', 85: 'reb', 86: 're', 87: 'mib', 88: 'mi', 89: 'fa', 90: 'solb', 91: 'sol', 92: 'lab', 93: 'la', 94: 'sib', 95: 'si', 96: 'do', 97: 'reb', 98: 're', 99: 'mib', 100: 'mi', 101: 'fa', 102: 'solb', 103: 'sol', 104: 'lab', 105: 'la', 106: 'sib', 107: 'si', 108: 'do'}\n"
          ],
          "name": "stdout"
        }
      ]
    },
    {
      "cell_type": "code",
      "metadata": {
        "id": "LLZP9Ia0f0R8",
        "colab_type": "code",
        "colab": {
          "base_uri": "https://localhost:8080/",
          "height": 55
        },
        "outputId": "42930381-d6ad-4cfd-de1e-c53c8b5d8e8f"
      },
      "source": [
        "for num,note in zip(note_names_dict.keys(),note_names_dict.values()):\n",
        "    k = num - 21\n",
        "    if k>2:\n",
        "        alt = 1 + ((k-3)//12)\n",
        "        note_names_dict[num] += str(alt)\n",
        "note_names_dict[21],note_names_dict[22],note_names_dict[23] = 'la0','sib0','si0'\n",
        "print(note_names_dict) "
      ],
      "execution_count": null,
      "outputs": [
        {
          "output_type": "stream",
          "text": [
            "{21: 'la0', 22: 'sib0', 23: 'si0', 24: 'do1', 25: 'reb1', 26: 're1', 27: 'mib1', 28: 'mi1', 29: 'fa1', 30: 'solb1', 31: 'sol1', 32: 'lab1', 33: 'la1', 34: 'sib1', 35: 'si1', 36: 'do2', 37: 'reb2', 38: 're2', 39: 'mib2', 40: 'mi2', 41: 'fa2', 42: 'solb2', 43: 'sol2', 44: 'lab2', 45: 'la2', 46: 'sib2', 47: 'si2', 48: 'do3', 49: 'reb3', 50: 're3', 51: 'mib3', 52: 'mi3', 53: 'fa3', 54: 'solb3', 55: 'sol3', 56: 'lab3', 57: 'la3', 58: 'sib3', 59: 'si3', 60: 'do4', 61: 'reb4', 62: 're4', 63: 'mib4', 64: 'mi4', 65: 'fa4', 66: 'solb4', 67: 'sol4', 68: 'lab4', 69: 'la4', 70: 'sib4', 71: 'si4', 72: 'do5', 73: 'reb5', 74: 're5', 75: 'mib5', 76: 'mi5', 77: 'fa5', 78: 'solb5', 79: 'sol5', 80: 'lab5', 81: 'la5', 82: 'sib5', 83: 'si5', 84: 'do6', 85: 'reb6', 86: 're6', 87: 'mib6', 88: 'mi6', 89: 'fa6', 90: 'solb6', 91: 'sol6', 92: 'lab6', 93: 'la6', 94: 'sib6', 95: 'si6', 96: 'do7', 97: 'reb7', 98: 're7', 99: 'mib7', 100: 'mi7', 101: 'fa7', 102: 'solb7', 103: 'sol7', 104: 'lab7', 105: 'la7', 106: 'sib7', 107: 'si7', 108: 'do8'}\n"
          ],
          "name": "stdout"
        }
      ]
    },
    {
      "cell_type": "code",
      "metadata": {
        "id": "sOYtCgvxhMVO",
        "colab_type": "code",
        "colab": {}
      },
      "source": [
        "filename = '/content/drive/My Drive/Diplomado Python/Notebooks & Resources/Proyecto Final/note_values.p'\n",
        "with open(filename, 'wb') as fp:\n",
        "    pickle.dump(note_names_dict, fp)"
      ],
      "execution_count": null,
      "outputs": []
    },
    {
      "cell_type": "markdown",
      "metadata": {
        "id": "sQ0PmK0cv9nX",
        "colab_type": "text"
      },
      "source": [
        "## CC messages dictionary"
      ]
    },
    {
      "cell_type": "code",
      "metadata": {
        "id": "v6tHcJWSjShO",
        "colab_type": "code",
        "colab": {
          "base_uri": "https://localhost:8080/",
          "height": 206
        },
        "outputId": "b6dd2765-3649-41e1-823b-79057434dbe5"
      },
      "source": [
        "cc_df = pd.read_excel('/content/drive/My Drive/Diplomado Python/Notebooks & Resources/Proyecto Final/CC.xlsx')\n",
        "cc_df.head()"
      ],
      "execution_count": null,
      "outputs": [
        {
          "output_type": "execute_result",
          "data": {
            "text/html": [
              "<div>\n",
              "<style scoped>\n",
              "    .dataframe tbody tr th:only-of-type {\n",
              "        vertical-align: middle;\n",
              "    }\n",
              "\n",
              "    .dataframe tbody tr th {\n",
              "        vertical-align: top;\n",
              "    }\n",
              "\n",
              "    .dataframe thead th {\n",
              "        text-align: right;\n",
              "    }\n",
              "</style>\n",
              "<table border=\"1\" class=\"dataframe\">\n",
              "  <thead>\n",
              "    <tr style=\"text-align: right;\">\n",
              "      <th></th>\n",
              "      <th>CC</th>\n",
              "      <th>Meaning</th>\n",
              "      <th>Details</th>\n",
              "    </tr>\n",
              "  </thead>\n",
              "  <tbody>\n",
              "    <tr>\n",
              "      <th>0</th>\n",
              "      <td>0</td>\n",
              "      <td>Bank Select</td>\n",
              "      <td>Allows user to switch bank for patch selection...</td>\n",
              "    </tr>\n",
              "    <tr>\n",
              "      <th>1</th>\n",
              "      <td>1</td>\n",
              "      <td>Modulation</td>\n",
              "      <td>Generally this CC controls a vibrato effect (p...</td>\n",
              "    </tr>\n",
              "    <tr>\n",
              "      <th>2</th>\n",
              "      <td>2</td>\n",
              "      <td>Breath Controller</td>\n",
              "      <td>Often times associated with aftertouch message...</td>\n",
              "    </tr>\n",
              "    <tr>\n",
              "      <th>3</th>\n",
              "      <td>3</td>\n",
              "      <td>Undefined</td>\n",
              "      <td></td>\n",
              "    </tr>\n",
              "    <tr>\n",
              "      <th>4</th>\n",
              "      <td>4</td>\n",
              "      <td>Foot Controller</td>\n",
              "      <td>Often used with aftertouch messages. It can se...</td>\n",
              "    </tr>\n",
              "  </tbody>\n",
              "</table>\n",
              "</div>"
            ],
            "text/plain": [
              "   CC             Meaning                                            Details\n",
              "0   0        Bank Select   Allows user to switch bank for patch selection...\n",
              "1   1         Modulation   Generally this CC controls a vibrato effect (p...\n",
              "2   2  Breath Controller   Often times associated with aftertouch message...\n",
              "3   3          Undefined                                                    \n",
              "4   4    Foot Controller   Often used with aftertouch messages. It can se..."
            ]
          },
          "metadata": {
            "tags": []
          },
          "execution_count": 143
        }
      ]
    },
    {
      "cell_type": "code",
      "metadata": {
        "id": "N-_1EOsVIK1_",
        "colab_type": "code",
        "colab": {}
      },
      "source": [
        "cc = {cc_df.loc[k,'CC']:cc_df.loc[k,'Meaning'] for k in range(cc_df.shape[0])} "
      ],
      "execution_count": null,
      "outputs": []
    },
    {
      "cell_type": "code",
      "metadata": {
        "id": "3DH_iS80JJPG",
        "colab_type": "code",
        "colab": {
          "base_uri": "https://localhost:8080/",
          "height": 1000
        },
        "outputId": "0e6793ca-869f-4800-c898-386c2da95d16"
      },
      "source": [
        "cc"
      ],
      "execution_count": null,
      "outputs": [
        {
          "output_type": "execute_result",
          "data": {
            "text/plain": [
              "{0: 'Bank Select ',\n",
              " 1: 'Modulation ',\n",
              " 2: 'Breath Controller ',\n",
              " 3: 'Undefined ',\n",
              " 4: 'Foot Controller ',\n",
              " 5: 'Portamento',\n",
              " 6: 'Data Entry Most Significant Bit(MSB) ',\n",
              " 7: 'Volume ',\n",
              " 8: 'Balance ',\n",
              " 9: 'Undefined ',\n",
              " 10: 'Pan ',\n",
              " 11: 'Expression ',\n",
              " 12: 'Effect Controller 1 ',\n",
              " 13: 'Effect Controller 2 ',\n",
              " 14: 'Undefined ',\n",
              " 15: 'Undefined ',\n",
              " 64: 'Damper Pedal /',\n",
              " 65: 'Portamento On/Off Switch ',\n",
              " 66: 'Sostenuto On/Off Switch ',\n",
              " 67: 'Soft Pedal On/Off Switch ',\n",
              " 68: 'Legato FootSwitch ',\n",
              " 69: 'Hold 2 ',\n",
              " 70: 'Sound Controller 1 ',\n",
              " 71: 'Sound Controller 2 ',\n",
              " 72: 'Sound Controller 3 ',\n",
              " 73: 'Sound Controller 4 ',\n",
              " 74: 'Sound Controller 5 ',\n",
              " 75: 'Sound Controller 6 ',\n",
              " 76: 'Sound Controller 7 ',\n",
              " 77: 'Sound Controller 8 ',\n",
              " 78: 'Sound Controller 9 ',\n",
              " 79: 'Sound Controller 10 ',\n",
              " 80: 'General Purpose',\n",
              " 81: 'General Purpose MIDI CC Controller ',\n",
              " 82: 'General Purpose',\n",
              " 83: 'General Purpose MIDI CC Controller ',\n",
              " 84: 'Portamento CC Control ',\n",
              " 91: 'Effect 1 Depth ',\n",
              " 92: 'Effect 2 Depth ',\n",
              " 93: 'Effect 3 Depth ',\n",
              " 94: 'Effect 4 Depth ',\n",
              " 95: 'Effect 5 Depth ',\n",
              " 96: '(+1) Data Increment ',\n",
              " 97: '(-1) Data Decrement ',\n",
              " 98: 'Non-Registered Parameter Number LSB (NRPN) ',\n",
              " 99: 'Non-Registered Parameter Number MSB (NRPN) ',\n",
              " 100: 'Registered Parameter Number LSB (RPN) ',\n",
              " 101: 'Registered Parameter Number MSB (RPN) ',\n",
              " 120: 'All Sound Off ',\n",
              " 121: 'Reset All Controllers ',\n",
              " 122: 'Local On/Off Switch ',\n",
              " 123: 'All Notes Off ',\n",
              " 124: 'Omni Mode Off ',\n",
              " 125: 'Omni Mode On ',\n",
              " 126: 'Mono Mode ',\n",
              " 127: 'Poly Mode '}"
            ]
          },
          "metadata": {
            "tags": []
          },
          "execution_count": 145
        }
      ]
    },
    {
      "cell_type": "code",
      "metadata": {
        "id": "mPqu5iL_JOyg",
        "colab_type": "code",
        "colab": {}
      },
      "source": [
        "filename = '/content/drive/My Drive/Diplomado Python/Notebooks & Resources/Proyecto Final/cc.p'\n",
        "with open(filename, 'wb') as fp:\n",
        "    pickle.dump(note_names_dict, fp)"
      ],
      "execution_count": null,
      "outputs": []
    },
    {
      "cell_type": "markdown",
      "metadata": {
        "id": "KjC7zc8yYb9u",
        "colab_type": "text"
      },
      "source": [
        "## Manipular los archivos"
      ]
    },
    {
      "cell_type": "code",
      "metadata": {
        "id": "v82rp4iWNGto",
        "colab_type": "code",
        "colab": {
          "base_uri": "https://localhost:8080/",
          "height": 198
        },
        "outputId": "5cc45a22-e03e-446c-e159-512092777944"
      },
      "source": [
        "filename = '/content/drive/My Drive/Diplomado Python/Notebooks & Resources/Proyecto Final/Piano solo midi dataset/tschai/ty_august.mid'\n",
        "mid = mido.MidiFile(filename, clip=True)\n",
        "print(mid)\n",
        "for track in mid.tracks:\n",
        "    print(track)"
      ],
      "execution_count": null,
      "outputs": [
        {
          "output_type": "stream",
          "text": [
            "<midi file '/content/drive/My Drive/Diplomado Python/Notebooks & Resources/Proyecto Final/Piano solo midi dataset/tschai/ty_august.mid' type 1, 8 tracks, 6271 messages>\n",
            "<midi track 'Die Jahreszeiten' 801 messages>\n",
            "<midi track 'Piano right' 2861 messages>\n",
            "<midi track 'Piano left' 2600 messages>\n",
            "<midi track 'Tschaikowsky: The Seasons: August' 2 messages>\n",
            "<midi track 'Copyright © 2004 by Bernd Krüger' 2 messages>\n",
            "<midi track 'http://www.piano-midi.de' 2 messages>\n",
            "<midi track 'Edition: 2008-09-21' 2 messages>\n",
            "<midi track '' 1 messages>\n"
          ],
          "name": "stdout"
        }
      ]
    },
    {
      "cell_type": "code",
      "metadata": {
        "id": "K23V_HZxTgnp",
        "colab_type": "code",
        "colab": {
          "base_uri": "https://localhost:8080/",
          "height": 231
        },
        "outputId": "2de20998-d298-4239-b305-546e15cf43dd"
      },
      "source": [
        "for k,msg in enumerate(mid.tracks[1]):\n",
        "    #print(msg.type)\n",
        "    non_allowed = ['text','midi_port','track_name','program_change','control_change']\n",
        "    if msg.type not in non_allowed:\n",
        "        if k>2 and k<30 and msg.velocity>0:\n",
        "            try:\n",
        "                print(note_values[msg.note],\"vel:\",msg.velocity,\"time:\",msg.time)\n",
        "            except:\n",
        "                print(msg.type,\"-\",cc[msg.control],\"- time:\",msg.time)"
      ],
      "execution_count": null,
      "outputs": [
        {
          "output_type": "stream",
          "text": [
            "sol4 vel: 56 time: 241\n",
            "do5 vel: 60 time: 0\n",
            "mi5 vel: 63 time: 0\n",
            "sol4 vel: 50 time: 12\n",
            "do5 vel: 47 time: 0\n",
            "mi5 vel: 47 time: 0\n",
            "sol4 vel: 56 time: 240\n",
            "do5 vel: 60 time: 0\n",
            "mi5 vel: 62 time: 0\n",
            "sol4 vel: 50 time: 12\n",
            "do5 vel: 48 time: 0\n",
            "mi5 vel: 48 time: 0\n"
          ],
          "name": "stdout"
        }
      ]
    },
    {
      "cell_type": "code",
      "metadata": {
        "id": "W4Z54EabYkHn",
        "colab_type": "code",
        "colab": {}
      },
      "source": [
        "times = []\n",
        "notes = []\n",
        "for k,msg in enumerate(mid.tracks[1]):\n",
        "    if msg.type == 'note_on':\n",
        "        times.append(msg.time)\n",
        "        notes.append(msg.note)\n",
        "        #print(k,msg.type,msg.note,msg.time)\n",
        "print(\"Right hand:\")\n",
        "print(np.unique(times),\"\\n ----\")\n",
        "notas = np.unique(notes)\n",
        "notas_nombres = [note_values[x] for x in notas]\n",
        "print(\"Notes\\n\",notas_nombres,\"\\n\",np.unique(notes).shape[0])\n",
        "\n",
        "times = []\n",
        "notes = []\n",
        "for k,msg in enumerate(mid.tracks[2]):\n",
        "    if msg.type == 'note_on':\n",
        "        times.append(msg.time)\n",
        "        notes.append(msg.note)\n",
        "        #print(k,msg.type,msg.note,msg.time)\n",
        "print(\"Left hand:\")\n",
        "print(np.unique(times),\"\\n ----\")\n",
        "notas = np.unique(notes)\n",
        "notas_nombres = [note_values[x] for x in notas]\n",
        "print(\"Notes\\n\",notas_nombres,\"\\n\",np.unique(notes).shape[0])"
      ],
      "execution_count": null,
      "outputs": []
    },
    {
      "cell_type": "code",
      "metadata": {
        "id": "VP5yA5l0baA1",
        "colab_type": "code",
        "colab": {}
      },
      "source": [
        "for k,msg in enumerate(mid.tracks[1]):\n",
        "    if msg.type == 'note_on':\n",
        "        print(k,note_values[msg.note],msg.time)"
      ],
      "execution_count": null,
      "outputs": []
    },
    {
      "cell_type": "code",
      "metadata": {
        "id": "LfVE1hQOHd7O",
        "colab_type": "code",
        "colab": {}
      },
      "source": [
        ""
      ],
      "execution_count": null,
      "outputs": []
    }
  ]
}